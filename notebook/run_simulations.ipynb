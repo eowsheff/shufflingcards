{
 "cells": [
  {
   "cell_type": "code",
   "execution_count": 26,
   "id": "7ff9605c",
   "metadata": {},
   "outputs": [],
   "source": [
    "import matplotlib.pyplot as plt\n",
    "import numpy as np\n",
    "import simulation\n",
    "import pickle\n",
    "import yaml\n",
    "from pathlib import Path"
   ]
  },
  {
   "cell_type": "markdown",
   "id": "7924c755",
   "metadata": {},
   "source": [
    "# Configure simulation settings"
   ]
  },
  {
   "cell_type": "markdown",
   "id": "c93e51ab",
   "metadata": {},
   "source": [
    "<b>Set path to simlation config file (yaml) and load simulation config into a Python dictionary</b>\n",
    "\n",
    "Using the config, we first set all the settings which we will use for our simulations.\n",
    "* random_seed: this allows another user to replicate the results of running the simulations\n",
    "* n_experiments: the number of times we run a simulation. E.g.: when n_experiments = 20, the simulation will be ran 20 times repeatedly\n",
    "* "
   ]
  },
  {
   "cell_type": "code",
   "execution_count": 2,
   "id": "d567f3d1",
   "metadata": {},
   "outputs": [],
   "source": [
    "simulation_config_name = \"simulation_config.yml\"\n",
    "simulation_config_folder = Path('./config')\n",
    "simulation_config_path = simulation_config_folder / simulation_config_name"
   ]
  },
  {
   "cell_type": "code",
   "execution_count": 3,
   "id": "12cbe58b",
   "metadata": {},
   "outputs": [],
   "source": [
    "with open(simulation_config_path, \"r\") as f:\n",
    "    cfg_load = yaml.safe_load(f)"
   ]
  },
  {
   "cell_type": "code",
   "execution_count": 4,
   "id": "c6a6c6a3",
   "metadata": {},
   "outputs": [],
   "source": [
    "cfg = cfg_load['simulation_config']"
   ]
  },
  {
   "cell_type": "markdown",
   "id": "7773af48",
   "metadata": {},
   "source": [
    "<b>Use config to set general simulation settings</b>"
   ]
  },
  {
   "cell_type": "code",
   "execution_count": 5,
   "id": "54a3c230",
   "metadata": {},
   "outputs": [],
   "source": [
    "RANDOM_SEED = cfg['random_seed'] \n",
    "N_EXPERIMENTS = cfg['n_experiments']\n",
    "N_CARDS = cfg['n_cards']"
   ]
  },
  {
   "cell_type": "markdown",
   "id": "47116ca9",
   "metadata": {},
   "source": [
    "<b>Set settings specificly for overhand shuffles</b>"
   ]
  },
  {
   "cell_type": "code",
   "execution_count": 6,
   "id": "eeef5aaf",
   "metadata": {},
   "outputs": [],
   "source": [
    "overhand_cfg = cfg['overhand_shuffle']\n",
    "MAX_OVERHAND_SHUFFLES = overhand_cfg['max_overhand_shuffles']\n",
    "OVERHAND_P_VALUE = overhand_cfg['p']"
   ]
  },
  {
   "cell_type": "markdown",
   "id": "aca6582f",
   "metadata": {},
   "source": [
    "<b>Set settings specificly for riffle shuffles</b>"
   ]
  },
  {
   "cell_type": "code",
   "execution_count": 7,
   "id": "c4c61126",
   "metadata": {},
   "outputs": [],
   "source": [
    "riffle_cfg = cfg['riffle_shuffle']\n",
    "MAX_RIFFLE_SHUFFLES = riffle_cfg['max_riffle_shuffles']"
   ]
  },
  {
   "cell_type": "markdown",
   "id": "92559ec8",
   "metadata": {},
   "source": [
    "<b>Set settings specificly for a-shuffles</b>"
   ]
  },
  {
   "cell_type": "code",
   "execution_count": 8,
   "id": "8e103a9d",
   "metadata": {},
   "outputs": [],
   "source": [
    "a_cfg = cfg['a_shuffle']\n",
    "MAX_A_RIFFLE_SHUFFLES = a_cfg['max_riffle_shuffles']\n",
    "A = a_cfg['a']"
   ]
  },
  {
   "cell_type": "markdown",
   "id": "e3c12c6e",
   "metadata": {},
   "source": [
    "# Run Simulations"
   ]
  },
  {
   "cell_type": "markdown",
   "id": "050c3c69",
   "metadata": {},
   "source": [
    "## Overhand shuffle"
   ]
  },
  {
   "cell_type": "code",
   "execution_count": 11,
   "id": "33be6a42",
   "metadata": {
    "scrolled": false
   },
   "outputs": [],
   "source": [
    "overhand_shuffle_results = simulation.overhand_shuffle_simulation(\n",
    "    n_experiments=N_EXPERIMENTS,\n",
    "    n_cards_in_deck=N_CARDS,\n",
    "    max_n_shuffle=MAX_OVERHAND_SHUFFLES,\n",
    "    p=OVERHAND_P_VALUE,\n",
    "    random_seed=RANDOM_SEED\n",
    "    )"
   ]
  },
  {
   "cell_type": "markdown",
   "id": "e7846d4a",
   "metadata": {},
   "source": [
    "## Riffle Shuffle"
   ]
  },
  {
   "cell_type": "code",
   "execution_count": 12,
   "id": "2352c9aa",
   "metadata": {},
   "outputs": [],
   "source": [
    "riffle_shuffle_result = simulation.riffle_shuffle_simulation(\n",
    "    n_experiments=N_EXPERIMENTS, \n",
    "    n_cards_in_deck=N_CARDS, \n",
    "    max_n_riffle_shuffle=MAX_RIFFLE_SHUFFLES, \n",
    "    random_seed=RANDOM_SEED\n",
    "    )"
   ]
  },
  {
   "cell_type": "markdown",
   "id": "be3f6cad",
   "metadata": {},
   "source": [
    "## a-Shuffle"
   ]
  },
  {
   "cell_type": "code",
   "execution_count": 13,
   "id": "522975bf",
   "metadata": {},
   "outputs": [],
   "source": [
    "riffle_shuffle_result = simulation.a_shuffle_simulation(\n",
    "    n_experiments=N_EXPERIMENTS, \n",
    "    a=A,\n",
    "    n_cards_in_deck=N_CARDS, \n",
    "    max_n_shuffle=MAX_A_RIFFLE_SHUFFLES, \n",
    "    random_seed=RANDOM_SEED\n",
    "    )"
   ]
  },
  {
   "cell_type": "markdown",
   "id": "e0068ca2",
   "metadata": {},
   "source": [
    "# Top-in-at-random-Shuffle"
   ]
  },
  {
   "cell_type": "markdown",
   "id": "089cfdb6",
   "metadata": {},
   "source": [
    "## Run simulation"
   ]
  },
  {
   "cell_type": "code",
   "execution_count": null,
   "id": "413bb1c2",
   "metadata": {},
   "outputs": [],
   "source": [
    "top_in_at_random_results = simulation.top_in_at_random_shuffle_simulation(\n",
    "    n_experiments=N_EXPERIMENTS,\n",
    "    )"
   ]
  }
 ],
 "metadata": {
  "kernelspec": {
   "display_name": ".env",
   "language": "python",
   "name": "python3"
  },
  "language_info": {
   "codemirror_mode": {
    "name": "ipython",
    "version": 3
   },
   "file_extension": ".py",
   "mimetype": "text/x-python",
   "name": "python",
   "nbconvert_exporter": "python",
   "pygments_lexer": "ipython3",
   "version": "3.10.5 (v3.10.5:f377153967, Jun  6 2022, 12:36:10) [Clang 13.0.0 (clang-1300.0.29.30)]"
  },
  "vscode": {
   "interpreter": {
    "hash": "64b612342b43804d31380394e1f0313686f72563353c29edce139208784a8619"
   }
  }
 },
 "nbformat": 4,
 "nbformat_minor": 5
}
