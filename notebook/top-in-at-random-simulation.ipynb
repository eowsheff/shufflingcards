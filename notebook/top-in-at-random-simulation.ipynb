{
 "cells": [
  {
   "cell_type": "code",
   "execution_count": 1,
   "id": "14e18fa8",
   "metadata": {},
   "outputs": [],
   "source": [
    "import sys\n",
    "import os\n",
    "\n",
    "sys.path.insert(1, os.path.join(sys.path[0], '..')) "
   ]
  },
  {
   "cell_type": "code",
   "execution_count": 2,
   "id": "4c1a45e4",
   "metadata": {},
   "outputs": [],
   "source": [
    "import matplotlib.pyplot as plt\n",
    "import matplotlib.ticker as ticker\n",
    "import pandas as pd\n",
    "import numpy as np\n",
    "import yaml\n",
    "from pathlib import Path\n",
    "import math\n",
    "\n",
    "import simulation"
   ]
  },
  {
   "cell_type": "code",
   "execution_count": 3,
   "id": "02ed2c97",
   "metadata": {},
   "outputs": [],
   "source": [
    "simulation_config_name = \"simulation_config.yml\"\n",
    "simulation_config_folder = Path('../config')\n",
    "simulation_config_path = simulation_config_folder / simulation_config_name"
   ]
  },
  {
   "cell_type": "code",
   "execution_count": 4,
   "id": "617068d1",
   "metadata": {},
   "outputs": [],
   "source": [
    "with open(simulation_config_path, \"r\") as f:\n",
    "    cfg_load = yaml.safe_load(f)"
   ]
  },
  {
   "cell_type": "code",
   "execution_count": 5,
   "id": "3288882f",
   "metadata": {},
   "outputs": [],
   "source": [
    "cfg = cfg_load['simulation_config']\n",
    "top_in_at_random_cfg = cfg['top_in_at_random_shuffle']"
   ]
  },
  {
   "cell_type": "code",
   "execution_count": 6,
   "id": "f5b4c7f4",
   "metadata": {},
   "outputs": [],
   "source": [
    "RANDOM_SEED = cfg['random_seed'] \n",
    "N_TRIALS = top_in_at_random_cfg['n_trials']\n",
    "N_CARDS = top_in_at_random_cfg['n_cards']"
   ]
  },
  {
   "cell_type": "code",
   "execution_count": 7,
   "id": "22ebadf6",
   "metadata": {},
   "outputs": [],
   "source": [
    "np.random.seed(RANDOM_SEED)"
   ]
  },
  {
   "cell_type": "code",
   "execution_count": 19,
   "id": "b1220016",
   "metadata": {},
   "outputs": [],
   "source": [
    "results = simulation.top_in_at_random_shuffle_simulation(\n",
    "    n_trials=N_TRIALS,\n",
    "    n_cards_in_deck=N_CARDS\n",
    "    )"
   ]
  },
  {
   "cell_type": "code",
   "execution_count": 24,
   "id": "210123ed",
   "metadata": {},
   "outputs": [],
   "source": [
    "# Extract the number of overhand shuffles per trial\n",
    "\n",
    "shuffles_per_trial = [len(r) for r in results]"
   ]
  },
  {
   "cell_type": "code",
   "execution_count": 25,
   "id": "9ccf689f",
   "metadata": {},
   "outputs": [
    {
     "data": {
      "text/plain": [
       "236.20597"
      ]
     },
     "execution_count": 25,
     "metadata": {},
     "output_type": "execute_result"
    }
   ],
   "source": [
    "# Get mean number of overhand shuffles\n",
    "\n",
    "np.mean(shuffles_per_trial)"
   ]
  },
  {
   "cell_type": "code",
   "execution_count": 26,
   "id": "407cb651",
   "metadata": {},
   "outputs": [
    {
     "data": {
      "text/plain": [
       "64.6004071686789"
      ]
     },
     "execution_count": 26,
     "metadata": {},
     "output_type": "execute_result"
    }
   ],
   "source": [
    "# Get std. deviation of number of shuffles per trial\n",
    "\n",
    "np.std(shuffles_per_trial)"
   ]
  }
 ],
 "metadata": {
  "kernelspec": {
   "display_name": "Python 3 (ipykernel)",
   "language": "python",
   "name": "python3"
  },
  "language_info": {
   "codemirror_mode": {
    "name": "ipython",
    "version": 3
   },
   "file_extension": ".py",
   "mimetype": "text/x-python",
   "name": "python",
   "nbconvert_exporter": "python",
   "pygments_lexer": "ipython3",
   "version": "3.9.12"
  }
 },
 "nbformat": 4,
 "nbformat_minor": 5
}
