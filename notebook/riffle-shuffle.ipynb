{
 "cells": [
  {
   "cell_type": "code",
   "execution_count": 1,
   "id": "e843ca2f",
   "metadata": {},
   "outputs": [],
   "source": [
    "import sys\n",
    "import os\n",
    "\n",
    "sys.path.insert(1, os.path.join(sys.path[0], '..')) "
   ]
  },
  {
   "cell_type": "code",
   "execution_count": 2,
   "id": "3428515e",
   "metadata": {},
   "outputs": [],
   "source": [
    "import matplotlib.pyplot as plt\n",
    "import numpy as np\n",
    "import yaml\n",
    "from pathlib import Path\n",
    "import math\n",
    "\n",
    "import simulation\n",
    "import randomness_test\n",
    "import gsr"
   ]
  },
  {
   "cell_type": "markdown",
   "id": "df5e1175",
   "metadata": {},
   "source": [
    "# Configure simulation settings"
   ]
  },
  {
   "cell_type": "markdown",
   "id": "171b1a2a",
   "metadata": {},
   "source": [
    "<b>Set path to simlation config file (yaml) and load the simulation config into a Python dictionary</b>\n",
    "\n",
    "Using the config, we set all the settings which we will use for our simulation.\n",
    "* random_seed: this allows another user to replicate the results of running the simulations\n",
    "* n_experiments: the number of times we run a simulation. E.g.: when n_experiments = 20, the simulation will be ran 20 times repeatedly\n",
    "* n_cards: the number of cards in the deck\n",
    "* max_riffle_shuffles: maximum number of riffle shuffles performed per experiment"
   ]
  },
  {
   "cell_type": "code",
   "execution_count": 3,
   "id": "41f29713",
   "metadata": {},
   "outputs": [],
   "source": [
    "simulation_config_name = \"simulation_config.yml\"\n",
    "simulation_config_folder = Path('../config')\n",
    "simulation_config_path = simulation_config_folder / simulation_config_name"
   ]
  },
  {
   "cell_type": "code",
   "execution_count": 4,
   "id": "756c1614",
   "metadata": {},
   "outputs": [],
   "source": [
    "with open(simulation_config_path, \"r\") as f:\n",
    "    cfg_load = yaml.safe_load(f)"
   ]
  },
  {
   "cell_type": "code",
   "execution_count": 5,
   "id": "2c80b654",
   "metadata": {},
   "outputs": [],
   "source": [
    "cfg = cfg_load['simulation_config']\n",
    "riffle_shuffle_cfg = cfg['riffle_shuffle']"
   ]
  },
  {
   "cell_type": "code",
   "execution_count": 6,
   "id": "66beb698",
   "metadata": {},
   "outputs": [],
   "source": [
    "RANDOM_SEED = cfg['random_seed'] \n",
    "N_TRIALS = riffle_shuffle_cfg['n_trials']\n",
    "N_CARDS = riffle_shuffle_cfg['n_cards']\n",
    "MAX_RIFFLE_SHUFFLES = riffle_shuffle_cfg['max_riffle_shuffles']\n",
    "A = 2"
   ]
  },
  {
   "cell_type": "markdown",
   "id": "224aec74",
   "metadata": {},
   "source": [
    "# Run riffle shuffle simulation"
   ]
  },
  {
   "cell_type": "code",
   "execution_count": 7,
   "id": "f54a5859",
   "metadata": {
    "scrolled": false
   },
   "outputs": [],
   "source": [
    "results = simulation.riffle_shuffle_simulation(\n",
    "    n_trials=20,\n",
    "    max_n_riffle_shuffle=15,\n",
    "    n_cards_in_deck=52,\n",
    "    random_seed=RANDOM_SEED\n",
    "    )"
   ]
  },
  {
   "cell_type": "markdown",
   "id": "83f168f1",
   "metadata": {},
   "source": [
    "# Simulation results "
   ]
  },
  {
   "cell_type": "code",
   "execution_count": 138,
   "id": "645636c6",
   "metadata": {},
   "outputs": [
    {
     "data": {
      "text/plain": [
       "[[deque([1, 2, 3, 4, 5, 6]),\n",
       "  deque([3, 4, 1, 2, 5, 6]),\n",
       "  deque([3, 2, 5, 4, 1, 6]),\n",
       "  deque([3, 2, 4, 5, 1, 6]),\n",
       "  deque([3, 4, 2, 5, 1, 6]),\n",
       "  deque([3, 4, 5, 2, 1, 6]),\n",
       "  deque([4, 3, 5, 2, 1, 6]),\n",
       "  deque([2, 1, 6, 4, 3, 5]),\n",
       "  deque([4, 3, 5, 2, 1, 6]),\n",
       "  deque([4, 1, 3, 5, 2, 6]),\n",
       "  deque([5, 4, 2, 1, 6, 3])],\n",
       " [deque([1, 2, 3, 4, 5, 6]),\n",
       "  deque([1, 2, 5, 6, 3, 4]),\n",
       "  deque([1, 6, 2, 3, 5, 4]),\n",
       "  deque([3, 5, 1, 4, 6, 2]),\n",
       "  deque([3, 4, 6, 2, 5, 1]),\n",
       "  deque([3, 5, 4, 6, 1, 2]),\n",
       "  deque([3, 4, 6, 5, 1, 2]),\n",
       "  deque([3, 4, 6, 1, 5, 2]),\n",
       "  deque([3, 5, 4, 6, 2, 1]),\n",
       "  deque([6, 3, 2, 5, 1, 4]),\n",
       "  deque([2, 5, 1, 4, 6, 3])]]"
      ]
     },
     "execution_count": 138,
     "metadata": {},
     "output_type": "execute_result"
    }
   ],
   "source": [
    "results"
   ]
  },
  {
   "cell_type": "code",
   "execution_count": 55,
   "id": "912b54cf",
   "metadata": {},
   "outputs": [
    {
     "data": {
      "text/plain": [
       "1"
      ]
     },
     "execution_count": 55,
     "metadata": {},
     "output_type": "execute_result"
    }
   ],
   "source": [
    "#3 --> r=4\n",
    "34\n",
    "2\n",
    "1\n",
    "56\n",
    "\n",
    "#4 --> r=3\n",
    "3456\n",
    "2\n",
    "1"
   ]
  },
  {
   "cell_type": "code",
   "execution_count": 56,
   "id": "e128b3a7",
   "metadata": {},
   "outputs": [],
   "source": [
    "trials_rising_sequences = []\n",
    "\n",
    "for trial in results:\n",
    "    rising_sequences = [deck.rising_sequences for deck in trial]\n",
    "    trials_rising_sequences.append(rising_sequences)"
   ]
  },
  {
   "cell_type": "code",
   "execution_count": 57,
   "id": "05486a27",
   "metadata": {},
   "outputs": [],
   "source": [
    "eul = []\n",
    "\n",
    "for r in trials_rising_sequences[0]:\n",
    "    e = randomness_test.eulerian(n=6, r=r)\n",
    "    eul.append(e)"
   ]
  },
  {
   "cell_type": "code",
   "execution_count": 47,
   "id": "b37dce64",
   "metadata": {},
   "outputs": [
    {
     "data": {
      "text/plain": [
       "52"
      ]
     },
     "execution_count": 47,
     "metadata": {},
     "output_type": "execute_result"
    }
   ],
   "source": [
    "len()"
   ]
  },
  {
   "cell_type": "code",
   "execution_count": 58,
   "id": "8f5d29ad",
   "metadata": {},
   "outputs": [],
   "source": [
    "p_val = []\n",
    "\n",
    "for r in trials_rising_sequences[0]:\n",
    "    p = gsr.prob_rising_sequences(a=2, n=6, r=r)\n",
    "    p_val.append(p)"
   ]
  },
  {
   "cell_type": "code",
   "execution_count": 60,
   "id": "b0eff09f",
   "metadata": {},
   "outputs": [
    {
     "data": {
      "text/plain": [
       "([0.328125, 0.234375, 0.09375], [1, 57, 302])"
      ]
     },
     "execution_count": 60,
     "metadata": {},
     "output_type": "execute_result"
    }
   ],
   "source": [
    "p_val, eul"
   ]
  },
  {
   "cell_type": "code",
   "execution_count": 77,
   "id": "a3d7bc9a",
   "metadata": {},
   "outputs": [
    {
     "data": {
      "text/plain": [
       "array([1.6541271071369095e-31, 5.321090159517953e-17, 4.1639416751596e-09,\n",
       "       0.00048411424370241947, 0.9995158815923558, 0.0, 0.0, 0.0, 0.0,\n",
       "       0.0, 0.0, 0.0, 0.0, 0.0, 0.0, 0.0, 0.0, 0.0, 0.0, 0.0, 0.0, 0.0,\n",
       "       0.0, 0.0, 0.0, 0.0, 0.0, 0.0, 0.0, 0.0, 0.0, 0.0, 0.0, 0.0, 0.0,\n",
       "       0.0, 0.0, 0.0, 0.0, 0.0, 0.0, 0.0, 0.0, 0.0, 0.0, 0.0, 0.0, 0.0,\n",
       "       0.0, 0.0, 0.0, 0.0], dtype=object)"
      ]
     },
     "execution_count": 77,
     "metadata": {},
     "output_type": "execute_result"
    }
   ],
   "source": [
    "np.asarray(p_val) * np.asarray(eul)"
   ]
  },
  {
   "cell_type": "code",
   "execution_count": 16,
   "id": "1d74512b",
   "metadata": {},
   "outputs": [],
   "source": [
    "result_rising_sequences = []\n",
    "\n",
    "for exp in results:\n",
    "    exp_list = []\n",
    "    for deck in exp:\n",
    "        exp_list.append(deck.rising_sequences)\n",
    "    result_rising_sequn"
   ]
  },
  {
   "cell_type": "code",
   "execution_count": 36,
   "id": "a629da9f",
   "metadata": {},
   "outputs": [],
   "source": [
    "eul_results = []\n",
    "p_val_results = []\n",
    "\n",
    "for each_trial in result_trial_rising_sequences:\n",
    "    eul = [randomness_test.eulerian(N_CARDS, r) for r in each_trial]\n",
    "    p_val = [gsr.prob_rising_sequences(a=2, n=N_CARDS, r=r) for r in each_trial]\n",
    "    \n",
    "    eul_results.append(eul)\n",
    "    p_val_results.append(p_val)"
   ]
  },
  {
   "cell_type": "code",
   "execution_count": 39,
   "id": "28809fd9",
   "metadata": {},
   "outputs": [
    {
     "data": {
      "text/plain": [
       "17468091.77444983"
      ]
     },
     "execution_count": 39,
     "metadata": {},
     "output_type": "execute_result"
    }
   ],
   "source": [
    "np.sum(p_val_results[0]) * np.sum(eul_results[0])"
   ]
  },
  {
   "cell_type": "code",
   "execution_count": 40,
   "id": "2ea47d9c",
   "metadata": {},
   "outputs": [
    {
     "name": "stdout",
     "output_type": "stream",
     "text": [
      "[1999587.17936467 1924131.05938864 1777572.05712752 1501867.00336896\n",
      " 1189884.9688527   719735.29823286  814055.44820289  548507.94905649\n",
      "  509328.80983817  674751.8420933   589138.16750512  548507.94905649\n",
      "  548507.94905649  509328.80983817  589138.16750512  509328.80983817\n",
      "  589138.16750512  509328.80983817  435323.76909245  471600.74985016\n",
      "  509328.80983817]\n",
      "[-137438.68418963 -132252.31874851 -122178.80125711 -103228.61983764\n",
      "  -90063.23064095  -66425.37276509  -46378.07557923  -43385.94167089\n",
      "  -29921.33908337  -35007.96672755  -43385.94167089  -35007.96672755\n",
      "  -37700.88724505  -43385.94167089  -35007.96672755  -25233.66262698\n",
      "  -29921.33908337  -25233.66262698  -32414.78400699  -29921.33908337\n",
      "  -29921.33908337]\n",
      "[-215445.60967294 -207315.58666641 -191524.5804422  -161818.72714912\n",
      " -115852.82784299 -109911.65718438  -77547.91175455  -50812.64379079\n",
      "  -54877.65529405  -46903.9788838   -54877.65529405  -54877.65529405\n",
      "  -46903.9788838   -54877.65529405  -59099.01339359  -59099.01339359\n",
      "  -43151.6605731   -50812.64379079  -50812.64379079  -59099.01339359\n",
      "  -54877.65529405]\n",
      "[-950207.78001018 -914350.88265131 -844705.75508888 -713690.1685853\n",
      " -537853.46038312 -342019.63634619 -242034.05717241 -320643.40907455\n",
      " -342019.63634619 -242034.05717241 -206866.71553197 -206866.71553197\n",
      " -174457.59676529 -224105.60849297 -206866.71553197 -279959.6216866\n",
      " -299956.73752136 -279959.6216866  -320643.40907455 -260652.06157028\n",
      " -174457.59676529]\n",
      "[1112559.88539259 1070576.49349098  989031.82845132  835630.97342622\n",
      "  695148.08514007  508644.94034639  351207.22071537  283387.89533585\n",
      "  327793.40600101  283387.89533585  283387.89533585  305186.96420784\n",
      "  327793.40600101  305186.96420784  305186.96420784  242211.87635542\n",
      "  242211.87635542  262396.19938504  283387.89533585  262396.19938504\n",
      "  283387.89533585]\n",
      "[1058474.43934932 1018532.00767576  940951.51538673  795008.01504103\n",
      "  599136.47510339  334133.80342304  311858.21652817  311858.21652817\n",
      "  249640.19795974  290350.75331933  290350.75331933  334133.80342304\n",
      "  311858.21652817  230437.105809    269611.41379652  269611.41379652\n",
      "  290350.75331933  357177.51400394  380989.34827087  311858.21652817\n",
      "  380989.34827087]\n",
      "[2562935.86916124 2466221.30806082 2278371.8720773  1924991.7449796\n",
      " 1378182.49568105  982024.77425046  864851.36368649  703040.46338385\n",
      "  429635.83873458  470553.53766168  513331.13199456  652823.28742786\n",
      "  703040.46338385  652823.28742786  652823.28742786  604466.00687765\n",
      "  604466.00687765  809054.50151316  604466.00687765  604466.00687765\n",
      "  557968.62173322]\n",
      "[-988003.86267664 -950720.69804734 -878305.32059426 -742078.37291025\n",
      " -531285.09596763 -426605.4414315  -333397.52985823 -311888.01180286\n",
      " -271019.92749766 -291095.47768267 -291095.47768267 -251661.36124782\n",
      " -251661.36124782 -271019.92749766 -251661.36124782 -215095.1805537\n",
      " -233019.77893317 -251661.36124782 -271019.92749766 -271019.92749766\n",
      " -233019.77893317]\n",
      "[2677968.35062472 2576912.94116718 2380632.24202851 2100786.49276148\n",
      " 1593566.072215   1026101.08064576  789009.5430723   682124.01383837\n",
      "  903668.56534143  789009.5430723   963913.13636419 1026101.08064576\n",
      "  682124.01383837  682124.01383837  682124.01383837  583011.97763963\n",
      "  682124.01383837  631596.3091096   631596.3091096   734595.09182594\n",
      "  734595.09182594]\n",
      "[2319885.47181918 2232342.623826   2062307.47676233 1742439.37832573\n",
      " 1313142.71989765 1001692.20299885  835024.0885503   464650.50088686\n",
      "  425929.62581296  464650.50088686  464650.50088686  636369.16425809\n",
      "  636369.16425809  732329.59378907  547142.79995735  590914.22395394\n",
      "  683507.6208698   505054.89226833  590914.22395394  636369.16425809\n",
      "  782835.08301591]\n"
     ]
    }
   ],
   "source": [
    "for e_trial, p_trial in zip(eul_results, p_val_results):\n",
    "    print(np.sum(e_trial) * np.asarray(p_trial))"
   ]
  },
  {
   "cell_type": "code",
   "execution_count": 20,
   "id": "a4d7141c",
   "metadata": {},
   "outputs": [],
   "source": [
    "uniform_dist = np.random.uniform(size=N_CARDS)"
   ]
  },
  {
   "cell_type": "code",
   "execution_count": 10,
   "id": "2e2186e8",
   "metadata": {},
   "outputs": [
    {
     "data": {
      "text/plain": [
       "[[1,\n",
       "  4503599627370443,\n",
       "  -1272381345782417671,\n",
       "  4439281314766845212,\n",
       "  -8544001251241770388,\n",
       "  -6055992480628104760,\n",
       "  -8379118330818010337,\n",
       "  6474331348535498020,\n",
       "  6474331348535498020,\n",
       "  624850905593674664,\n",
       "  -1175702916903134484,\n",
       "  6474331348535498020,\n",
       "  6474331348535498020,\n",
       "  6474331348535498020,\n",
       "  -1175702916903134484,\n",
       "  6474331348535498020,\n",
       "  -1175702916903134484,\n",
       "  6474331348535498020,\n",
       "  -2927157577578511624,\n",
       "  -1175702916903134484,\n",
       "  6474331348535498020],\n",
       " [1,\n",
       "  4503599627370443,\n",
       "  -1272381345782417671,\n",
       "  4439281314766845212,\n",
       "  6971133518283268686,\n",
       "  -3336101570576168633,\n",
       "  624850905593674664,\n",
       "  -2927157577578511624,\n",
       "  -2927157577578511624,\n",
       "  6474331348535498020,\n",
       "  -2927157577578511624,\n",
       "  6474331348535498020,\n",
       "  6474331348535498020,\n",
       "  -2927157577578511624,\n",
       "  6474331348535498020,\n",
       "  -6055992480628104760,\n",
       "  -2927157577578511624,\n",
       "  -6055992480628104760,\n",
       "  -1175702916903134484,\n",
       "  -2927157577578511624,\n",
       "  -2927157577578511624],\n",
       " [1,\n",
       "  4503599627370443,\n",
       "  -1272381345782417671,\n",
       "  4439281314766845212,\n",
       "  -7163041699759744588,\n",
       "  3198918498439622428,\n",
       "  -6055992480628104760,\n",
       "  -1175702916903134484,\n",
       "  6474331348535498020,\n",
       "  -2927157577578511624,\n",
       "  6474331348535498020,\n",
       "  6474331348535498020,\n",
       "  -2927157577578511624,\n",
       "  6474331348535498020,\n",
       "  6474331348535498020,\n",
       "  6474331348535498020,\n",
       "  624850905593674664,\n",
       "  -1175702916903134484,\n",
       "  -1175702916903134484,\n",
       "  6474331348535498020,\n",
       "  6474331348535498020],\n",
       " [1,\n",
       "  4503599627370443,\n",
       "  -1272381345782417671,\n",
       "  4439281314766845212,\n",
       "  -5936617392196456924,\n",
       "  -6055992480628104760,\n",
       "  6474331348535498020,\n",
       "  624850905593674664,\n",
       "  -6055992480628104760,\n",
       "  6474331348535498020,\n",
       "  -2927157577578511624,\n",
       "  -2927157577578511624,\n",
       "  -6055992480628104760,\n",
       "  -1175702916903134484,\n",
       "  -2927157577578511624,\n",
       "  -1175702916903134484,\n",
       "  -2927157577578511624,\n",
       "  -1175702916903134484,\n",
       "  624850905593674664,\n",
       "  6474331348535498020,\n",
       "  -6055992480628104760],\n",
       " [1,\n",
       "  4503599627370443,\n",
       "  -1272381345782417671,\n",
       "  4439281314766845212,\n",
       "  5667564046345049898,\n",
       "  -6619761468476988083,\n",
       "  -2927157577578511624,\n",
       "  6474331348535498020,\n",
       "  -1175702916903134484,\n",
       "  6474331348535498020,\n",
       "  6474331348535498020,\n",
       "  6474331348535498020,\n",
       "  -1175702916903134484,\n",
       "  6474331348535498020,\n",
       "  6474331348535498020,\n",
       "  -2927157577578511624,\n",
       "  -2927157577578511624,\n",
       "  -1175702916903134484,\n",
       "  6474331348535498020,\n",
       "  -1175702916903134484,\n",
       "  6474331348535498020],\n",
       " [1,\n",
       "  4503599627370443,\n",
       "  -1272381345782417671,\n",
       "  4439281314766845212,\n",
       "  -5936617392196456924,\n",
       "  -2927157577578511624,\n",
       "  -1175702916903134484,\n",
       "  -1175702916903134484,\n",
       "  -1175702916903134484,\n",
       "  6474331348535498020,\n",
       "  6474331348535498020,\n",
       "  -2927157577578511624,\n",
       "  -1175702916903134484,\n",
       "  -2927157577578511624,\n",
       "  6474331348535498020,\n",
       "  6474331348535498020,\n",
       "  6474331348535498020,\n",
       "  624850905593674664,\n",
       "  -6055992480628104760,\n",
       "  -1175702916903134484,\n",
       "  -6055992480628104760],\n",
       " [1,\n",
       "  4503599627370443,\n",
       "  -1272381345782417671,\n",
       "  4439281314766845212,\n",
       "  -7163041699759744588,\n",
       "  -2320188431456040616,\n",
       "  624850905593674664,\n",
       "  6474331348535498020,\n",
       "  -2320188431456040616,\n",
       "  -6055992480628104760,\n",
       "  624850905593674664,\n",
       "  6474331348535498020,\n",
       "  6474331348535498020,\n",
       "  6474331348535498020,\n",
       "  6474331348535498020,\n",
       "  -1175702916903134484,\n",
       "  -1175702916903134484,\n",
       "  -2927157577578511624,\n",
       "  -1175702916903134484,\n",
       "  -1175702916903134484,\n",
       "  -2927157577578511624],\n",
       " [1,\n",
       "  4503599627370443,\n",
       "  -1272381345782417671,\n",
       "  4439281314766845212,\n",
       "  -7163041699759744588,\n",
       "  -4206257175843759979,\n",
       "  624850905593674664,\n",
       "  -2927157577578511624,\n",
       "  6474331348535498020,\n",
       "  -1175702916903134484,\n",
       "  -1175702916903134484,\n",
       "  6474331348535498020,\n",
       "  6474331348535498020,\n",
       "  6474331348535498020,\n",
       "  6474331348535498020,\n",
       "  -2927157577578511624,\n",
       "  -1175702916903134484,\n",
       "  6474331348535498020,\n",
       "  6474331348535498020,\n",
       "  6474331348535498020,\n",
       "  -1175702916903134484],\n",
       " [1,\n",
       "  4503599627370443,\n",
       "  -1272381345782417671,\n",
       "  -9054777675046135372,\n",
       "  -8544001251241770388,\n",
       "  -2320188431456040616,\n",
       "  -1175702916903134484,\n",
       "  6474331348535498020,\n",
       "  624850905593674664,\n",
       "  -1175702916903134484,\n",
       "  -6055992480628104760,\n",
       "  -2320188431456040616,\n",
       "  6474331348535498020,\n",
       "  6474331348535498020,\n",
       "  6474331348535498020,\n",
       "  -2927157577578511624,\n",
       "  6474331348535498020,\n",
       "  -1175702916903134484,\n",
       "  -1175702916903134484,\n",
       "  6474331348535498020,\n",
       "  6474331348535498020],\n",
       " [1,\n",
       "  4503599627370443,\n",
       "  -1272381345782417671,\n",
       "  4439281314766845212,\n",
       "  -5936617392196456924,\n",
       "  -4206257175843759979,\n",
       "  -6055992480628104760,\n",
       "  624850905593674664,\n",
       "  -6055992480628104760,\n",
       "  624850905593674664,\n",
       "  624850905593674664,\n",
       "  6474331348535498020,\n",
       "  6474331348535498020,\n",
       "  -2927157577578511624,\n",
       "  -1175702916903134484,\n",
       "  6474331348535498020,\n",
       "  -1175702916903134484,\n",
       "  -2927157577578511624,\n",
       "  6474331348535498020,\n",
       "  6474331348535498020,\n",
       "  624850905593674664]]"
      ]
     },
     "execution_count": 10,
     "metadata": {},
     "output_type": "execute_result"
    }
   ],
   "source": [
    "result_P_r"
   ]
  },
  {
   "cell_type": "code",
   "execution_count": 21,
   "id": "f12cad5c",
   "metadata": {},
   "outputs": [
    {
     "ename": "TypeError",
     "evalue": "total_variation_distance() missing 2 required positional arguments: 'P' and 'Q'",
     "output_type": "error",
     "traceback": [
      "\u001b[0;31m---------------------------------------------------------------------------\u001b[0m",
      "\u001b[0;31mTypeError\u001b[0m                                 Traceback (most recent call last)",
      "Input \u001b[0;32mIn [21]\u001b[0m, in \u001b[0;36m<cell line: 3>\u001b[0;34m()\u001b[0m\n\u001b[1;32m      3\u001b[0m \u001b[38;5;28;01mfor\u001b[39;00m each_trial \u001b[38;5;129;01min\u001b[39;00m result_P_r:\n\u001b[1;32m      4\u001b[0m     distance_from_uniform \u001b[38;5;241m=\u001b[39m []\n\u001b[0;32m----> 5\u001b[0m     tvd \u001b[38;5;241m=\u001b[39m \u001b[43mrandomness_test\u001b[49m\u001b[38;5;241;43m.\u001b[39;49m\u001b[43mtotal_variation_distance\u001b[49m\u001b[43m(\u001b[49m\u001b[43m)\u001b[49m\n",
      "\u001b[0;31mTypeError\u001b[0m: total_variation_distance() missing 2 required positional arguments: 'P' and 'Q'"
     ]
    }
   ],
   "source": [
    "result_distance_from_uniform = []\n",
    "\n",
    "for each_trial in result_P_r:\n",
    "    distance_from_uniform = []\n",
    "    tvd = randomness_test.total_variation_distance()"
   ]
  },
  {
   "cell_type": "code",
   "execution_count": null,
   "id": "09400e82",
   "metadata": {},
   "outputs": [],
   "source": []
  },
  {
   "cell_type": "code",
   "execution_count": 27,
   "id": "7ef52eae",
   "metadata": {},
   "outputs": [],
   "source": [
    "def prob_rising_sequences(a, n, r):\n",
    "    return math.comb((a+n-r), a) / (a**n)"
   ]
  },
  {
   "cell_type": "code",
   "execution_count": 15,
   "id": "e69f8d2c",
   "metadata": {},
   "outputs": [
    {
     "data": {
      "text/plain": [
       "array([0.76932394, 0.90387216, 0.07591444, 0.96712321, 0.82649417,\n",
       "       0.080683  , 0.04860681, 0.88030106, 0.15427114, 0.08422554,\n",
       "       0.78229029, 0.08461378, 0.03214034, 0.31062533, 0.99587386,\n",
       "       0.5485173 , 0.35677665, 0.82963764, 0.73736571, 0.54033081,\n",
       "       0.86412986, 0.3243223 , 0.6064456 , 0.93760615, 0.82404767,\n",
       "       0.81173954, 0.30295442, 0.58023   , 0.7812677 , 0.75119752,\n",
       "       0.52633309, 0.02733839, 0.24896294, 0.2933733 , 0.35900073,\n",
       "       0.08674013, 0.62736644, 0.86083343, 0.12881112, 0.26025591,\n",
       "       0.61751444, 0.8131009 , 0.34697218, 0.86262764, 0.23849193,\n",
       "       0.81419909, 0.90945801, 0.17201998, 0.45177035, 0.96680219,\n",
       "       0.52365218, 0.92235823])"
      ]
     },
     "execution_count": 15,
     "metadata": {},
     "output_type": "execute_result"
    }
   ],
   "source": []
  },
  {
   "cell_type": "code",
   "execution_count": 16,
   "id": "36c7e87d",
   "metadata": {},
   "outputs": [
    {
     "data": {
      "text/plain": [
       "[<matplotlib.lines.Line2D at 0x7fc060772220>]"
      ]
     },
     "execution_count": 16,
     "metadata": {},
     "output_type": "execute_result"
    },
    {
     "data": {
      "image/png": "[encoded data removed]",
      "text/plain": [
       "<Figure size 432x288 with 1 Axes>"
      ]
     },
     "metadata": {
      "needs_background": "light"
     },
     "output_type": "display_data"
    }
   ],
   "source": [
    "plt.plot(uniform_dist)"
   ]
  },
  {
   "cell_type": "code",
   "execution_count": 22,
   "id": "eabe0be9",
   "metadata": {},
   "outputs": [
    {
     "data": {
      "text/plain": [
       "[[3.0597746558669314e-13,\n",
       "  1325.9999999999843,\n",
       "  -346093.6312168398,\n",
       "  1020218.6119875745,\n",
       "  -1555662.4934949807,\n",
       "  -666971.4270638538,\n",
       "  -1043761.8288758674,\n",
       "  543409.1509540591,\n",
       "  504594.2116001977,\n",
       "  64516.31919836192,\n",
       "  -105989.74681534314,\n",
       "  543409.1509540591,\n",
       "  543409.1509540591,\n",
       "  504594.2116001977,\n",
       "  -105989.74681534314,\n",
       "  504594.2116001977,\n",
       "  -105989.74681534314,\n",
       "  504594.2116001977,\n",
       "  -194987.8643600197,\n",
       "  -84844.00915021311,\n",
       "  504594.2116001977],\n",
       " [3.0597746558669314e-13,\n",
       "  1325.9999999999843,\n",
       "  -346093.6312168398,\n",
       "  1020218.6119875745,\n",
       "  1397756.0369160073,\n",
       "  -493348.3945820889,\n",
       "  64516.31919836192,\n",
       "  -282732.4033220286,\n",
       "  -194987.8643600197,\n",
       "  504594.2116001977,\n",
       "  -282732.4033220286,\n",
       "  504594.2116001977,\n",
       "  543409.1509540591,\n",
       "  -282732.4033220286,\n",
       "  504594.2116001977,\n",
       "  -340209.21582087706,\n",
       "  -194987.8643600197,\n",
       "  -340209.21582087706,\n",
       "  -84844.00915021311,\n",
       "  -194987.8643600197,\n",
       "  -194987.8643600197]]"
      ]
     },
     "execution_count": 22,
     "metadata": {},
     "output_type": "execute_result"
    }
   ],
   "source": [
    "result_P_r[:2]"
   ]
  },
  {
   "cell_type": "code",
   "execution_count": 30,
   "id": "49541627",
   "metadata": {},
   "outputs": [],
   "source": []
  },
  {
   "cell_type": "code",
   "execution_count": 32,
   "id": "3cb16382",
   "metadata": {},
   "outputs": [
    {
     "data": {
      "text/plain": [
       "1325.9999999999843"
      ]
     },
     "execution_count": 32,
     "metadata": {},
     "output_type": "execute_result"
    }
   ],
   "source": []
  },
  {
   "cell_type": "code",
   "execution_count": null,
   "id": "ff3d3e52",
   "metadata": {},
   "outputs": [],
   "source": []
  },
  {
   "cell_type": "code",
   "execution_count": 78,
   "id": "f684b54b",
   "metadata": {},
   "outputs": [
    {
     "data": {
      "text/plain": [
       "1.0"
      ]
     },
     "execution_count": 78,
     "metadata": {},
     "output_type": "execute_result"
    }
   ],
   "source": [
    "np.sum(np.asarray(eul) * np.asarray(p_val))"
   ]
  },
  {
   "cell_type": "code",
   "execution_count": 76,
   "id": "afe4cc6d",
   "metadata": {
    "scrolled": false
   },
   "outputs": [
    {
     "data": {
      "text/plain": [
       "[1,\n",
       " 4503599627370443,\n",
       " 6461081650535893048297331,\n",
       " 20282067166317747370548924397305,\n",
       " 2219371090444690280167825067011163404,\n",
       " 28980470297130316118851707371113927682308,\n",
       " 86585645711842456879259291396042785694734772,\n",
       " 86713283824808603371563209439361605206738793756,\n",
       " 37025109959688438829553523840364680262742546084490,\n",
       " 7911300235037463075597685089436522698036110779652974,\n",
       " 945840628557918451844218451393465611283022070265930318,\n",
       " 68592119011285455655624013113555233530495826611028105002,\n",
       " 3204605114791094679078453140281792404372059654677564605036,\n",
       " 101000927132657645557134474918099624296907772735089756696100,\n",
       " 2226078789301170911355122880657959428046783979202356910922164,\n",
       " 35302220045338224161235549913989821979876198108712965566590748,\n",
       " 412144632644776097452355282034303085724026998555266406163630407,\n",
       " 3608546499010535175417741799325030679058798554326570866008941901,\n",
       " 24054768032110205230512644571794784352350441257804171198293416085,\n",
       " 123593420813766502721516289401928881854407236400906448620933407519,\n",
       " 494370080113784916965652571921550916631682778978495688799726045528,\n",
       " 1551899076473182499091355855486075911167554010721759160922095067592,\n",
       " 3847618416911169544019658581651153304367757477493818759690300816296,\n",
       " 7571078104391482024576639988655575870087426063556289226755049718520,\n",
       " 11865899443920844006901893126784362875996540301956583552457431915244,\n",
       " 14846515951110031480154418176050166110124588078969987359444606014756,\n",
       " 14846515951110031480154418176050166110124588078969987359444606014756,\n",
       " 11865899443920844006901893126784362875996540301956583552457431915244,\n",
       " 7571078104391482024576639988655575870087426063556289226755049718520,\n",
       " 3847618416911169544019658581651153304367757477493818759690300816296,\n",
       " 1551899076473182499091355855486075911167554010721759160922095067592,\n",
       " 494370080113784916965652571921550916631682778978495688799726045528,\n",
       " 123593420813766502721516289401928881854407236400906448620933407519,\n",
       " 24054768032110205230512644571794784352350441257804171198293416085,\n",
       " 3608546499010535175417741799325030679058798554326570866008941901,\n",
       " 412144632644776097452355282034303085724026998555266406163630407,\n",
       " 35302220045338224161235549913989821979876198108712965566590748,\n",
       " 2226078789301170911355122880657959428046783979202356910922164,\n",
       " 101000927132657645557134474918099624296907772735089756696100,\n",
       " 3204605114791094679078453140281792404372059654677564605036,\n",
       " 68592119011285455655624013113555233530495826611028105002,\n",
       " 945840628557918451844218451393465611283022070265930318,\n",
       " 7911300235037463075597685089436522698036110779652974,\n",
       " 37025109959688438829553523840364680262742546084490,\n",
       " 86713283824808603371563209439361605206738793756,\n",
       " 86585645711842456879259291396042785694734772,\n",
       " 28980470297130316118851707371113927682308,\n",
       " 2219371090444690280167825067011163404,\n",
       " 20282067166317747370548924397305,\n",
       " 6461081650535893048297331,\n",
       " 4503599627370443,\n",
       " 0]"
      ]
     },
     "execution_count": 76,
     "metadata": {},
     "output_type": "execute_result"
    }
   ],
   "source": [
    "eul"
   ]
  },
  {
   "cell_type": "code",
   "execution_count": 75,
   "id": "4d7a9544",
   "metadata": {},
   "outputs": [
    {
     "data": {
      "text/plain": [
       "[1.6541271071369095e-31,\n",
       " 1.1815193622406496e-32,\n",
       " 6.44465106676718e-34,\n",
       " 2.3869078025063628e-35,\n",
       " 4.503599627370496e-37,\n",
       " 0.0,\n",
       " 0.0,\n",
       " 0.0,\n",
       " 0.0,\n",
       " 0.0,\n",
       " 0.0,\n",
       " 0.0,\n",
       " 0.0,\n",
       " 0.0,\n",
       " 0.0,\n",
       " 0.0,\n",
       " 0.0,\n",
       " 0.0,\n",
       " 0.0,\n",
       " 0.0,\n",
       " 0.0,\n",
       " 0.0,\n",
       " 0.0,\n",
       " 0.0,\n",
       " 0.0,\n",
       " 0.0,\n",
       " 0.0,\n",
       " 0.0,\n",
       " 0.0,\n",
       " 0.0,\n",
       " 0.0,\n",
       " 0.0,\n",
       " 0.0,\n",
       " 0.0,\n",
       " 0.0,\n",
       " 0.0,\n",
       " 0.0,\n",
       " 0.0,\n",
       " 0.0,\n",
       " 0.0,\n",
       " 0.0,\n",
       " 0.0,\n",
       " 0.0,\n",
       " 0.0,\n",
       " 0.0,\n",
       " 0.0,\n",
       " 0.0,\n",
       " 0.0,\n",
       " 0.0,\n",
       " 0.0,\n",
       " 0.0,\n",
       " 0.0]"
      ]
     },
     "execution_count": 75,
     "metadata": {},
     "output_type": "execute_result"
    }
   ],
   "source": [
    "p_val"
   ]
  },
  {
   "cell_type": "code",
   "execution_count": 130,
   "id": "250d6cb5",
   "metadata": {
    "scrolled": false
   },
   "outputs": [],
   "source": [
    "a=5\n",
    "n=6\n",
    "m=20\n",
    "\n",
    "rs = []\n",
    "eul = []\n",
    "p_val = []\n",
    "\n",
    "for r in range(1, n+1):\n",
    "    rs.append(r)\n",
    "    eul.append(eulerian(n, r)) # calculate all permutations that can lead to r rising sequences\n",
    "    p_val.append(prob_arrangement(a, n, r, m)) # calculate probability that there are r rising sequences, after m shuffles"
   ]
  },
  {
   "cell_type": "code",
   "execution_count": 298,
   "id": "a4e311e8",
   "metadata": {},
   "outputs": [],
   "source": [
    "def eulerian(n: int, r: int) -> int:\n",
    "    \"\"\"\n",
    "    This function returns the Eulerian number for n, according to the explicit formula, see here: https://en.wikipedia.org/wiki/Eulerian_number\n",
    "\n",
    "    :param  n: total number of elements considered (0 to n).\n",
    "            r: number of possible permutations with r ascents\n",
    "\n",
    "    :return Eulerian number as an integer\n",
    "    \"\"\"\n",
    "    if n < 0 or r < 0:\n",
    "        return 0\n",
    "    elif n == 0 and r == 0:\n",
    "        return 1\n",
    "    elif n <= r:\n",
    "        return 0\n",
    "\n",
    "    result = 0\n",
    "\n",
    "    for i in range(0, r+1):\n",
    "        result += ((-1)**i) * math.comb(n+1, i) * ((r-i)**n)\n",
    "\n",
    "    return result"
   ]
  },
  {
   "cell_type": "code",
   "execution_count": 299,
   "id": "1a40ee8c",
   "metadata": {},
   "outputs": [],
   "source": [
    "import math\n",
    "def probability_permutation(a, n, r, k):\n",
    "    return math.comb((a**k) + n - r, n) / (a**(k*n))"
   ]
  },
  {
   "cell_type": "code",
   "execution_count": 300,
   "id": "647c23ba",
   "metadata": {},
   "outputs": [
    {
     "ename": "NameError",
     "evalue": "name 'p_val' is not defined",
     "output_type": "error",
     "traceback": [
      "\u001b[0;31m---------------------------------------------------------------------------\u001b[0m",
      "\u001b[0;31mNameError\u001b[0m                                 Traceback (most recent call last)",
      "Input \u001b[0;32mIn [300]\u001b[0m, in \u001b[0;36m<cell line: 1>\u001b[0;34m()\u001b[0m\n\u001b[0;32m----> 1\u001b[0m np\u001b[38;5;241m.\u001b[39msum(np\u001b[38;5;241m.\u001b[39masarray(eul) \u001b[38;5;241m*\u001b[39m np\u001b[38;5;241m.\u001b[39masarray(\u001b[43mp_val\u001b[49m))\n",
      "\u001b[0;31mNameError\u001b[0m: name 'p_val' is not defined"
     ]
    }
   ],
   "source": [
    "np.sum(np.asarray(eul) * np.asarray(p_val))"
   ]
  },
  {
   "cell_type": "code",
   "execution_count": 301,
   "id": "e7a89d1f",
   "metadata": {},
   "outputs": [
    {
     "ename": "NameError",
     "evalue": "name 'p_val' is not defined",
     "output_type": "error",
     "traceback": [
      "\u001b[0;31m---------------------------------------------------------------------------\u001b[0m",
      "\u001b[0;31mNameError\u001b[0m                                 Traceback (most recent call last)",
      "Input \u001b[0;32mIn [301]\u001b[0m, in \u001b[0;36m<cell line: 1>\u001b[0;34m()\u001b[0m\n\u001b[0;32m----> 1\u001b[0m np\u001b[38;5;241m.\u001b[39masarray(eul) \u001b[38;5;241m*\u001b[39m np\u001b[38;5;241m.\u001b[39masarray(\u001b[43mp_val\u001b[49m)\n",
      "\u001b[0;31mNameError\u001b[0m: name 'p_val' is not defined"
     ]
    }
   ],
   "source": [
    "np.asarray(eul) * np.asarray(p_val)"
   ]
  },
  {
   "cell_type": "code",
   "execution_count": 302,
   "id": "e55faee5",
   "metadata": {},
   "outputs": [],
   "source": [
    "rising_sequences_per_trial = []\n",
    "\n",
    "for trial in results:\n",
    "    rising_sequences_after_k = []\n",
    "    for permutation in trial:\n",
    "        rising_sequences_after_k.append(permutation.rising_sequences)\n",
    "        \n",
    "    rising_sequences_per_trial.append(rising_sequences_after_k)"
   ]
  },
  {
   "cell_type": "code",
   "execution_count": 312,
   "id": "f9543a68",
   "metadata": {},
   "outputs": [],
   "source": [
    "list_of_r = rising_sequences_per_trial[0]"
   ]
  },
  {
   "cell_type": "code",
   "execution_count": 313,
   "id": "cd756d06",
   "metadata": {},
   "outputs": [],
   "source": [
    "k = 2\n",
    "r = 4"
   ]
  },
  {
   "cell_type": "code",
   "execution_count": 314,
   "id": "9a5bd082",
   "metadata": {},
   "outputs": [],
   "source": [
    "# probability of a specific permutation with r rising sequences, after k shuffles:\n",
    "prob_perm_w_r = probability_permutation(a=2, n=52, r=r, k=k)"
   ]
  },
  {
   "cell_type": "code",
   "execution_count": 315,
   "id": "7e3b567a",
   "metadata": {},
   "outputs": [],
   "source": [
    "# all possible permutations with rising sequences:\n",
    "possible_perms_w_r = eulerian(n=52, r=r)"
   ]
  },
  {
   "cell_type": "code",
   "execution_count": 316,
   "id": "bd53f003",
   "metadata": {},
   "outputs": [
    {
     "data": {
      "text/plain": [
       "0.9999831165359238"
      ]
     },
     "execution_count": 316,
     "metadata": {},
     "output_type": "execute_result"
    }
   ],
   "source": [
    "# so probability of a specific permutation with r rising sequences * all possible permutations = 1\n",
    "prob_perm_w_r * possible_perms_w_r"
   ]
  },
  {
   "cell_type": "code",
   "execution_count": 317,
   "id": "1ee1f72c",
   "metadata": {},
   "outputs": [
    {
     "data": {
      "text/plain": [
       "[0.0004,\n",
       " 0.0008,\n",
       " 0.0016,\n",
       " 0.0026,\n",
       " 0.0044,\n",
       " 0.004,\n",
       " 0.0052,\n",
       " 0.0054,\n",
       " 0.0046,\n",
       " 0.005,\n",
       " 0.0052,\n",
       " 0.0052,\n",
       " 0.0054,\n",
       " 0.005,\n",
       " 0.0054]"
      ]
     },
     "execution_count": 317,
     "metadata": {},
     "output_type": "execute_result"
    }
   ],
   "source": [
    "# now we have a list of rising sequences, after k shuffles\n",
    "list_of_r"
   ]
  },
  {
   "cell_type": "code",
   "execution_count": 271,
   "id": "c4d113b3",
   "metadata": {},
   "outputs": [],
   "source": [
    "# for each shuffle, sample how many rising sequences are present"
   ]
  },
  {
   "cell_type": "code",
   "execution_count": 272,
   "id": "fc124664",
   "metadata": {
    "scrolled": false
   },
   "outputs": [
    {
     "name": "stdout",
     "output_type": "stream",
     "text": [
      "1 2\n",
      "2 4\n",
      "3 8\n",
      "4 13\n",
      "5 22\n",
      "6 20\n",
      "7 26\n",
      "8 27\n",
      "9 23\n",
      "10 25\n",
      "11 26\n",
      "12 26\n",
      "13 27\n",
      "14 25\n",
      "15 27\n"
     ]
    },
    {
     "name": "stderr",
     "output_type": "stream",
     "text": [
      "/var/folders/0l/yhv54xsd3jdc019ppycwkrjw0000gn/T/ipykernel_54663/2047374768.py:20: RuntimeWarning: overflow encountered in long_scalars\n",
      "  result += ((-1)**i) * ncr(n+1, i) * ((r-i)**n)\n"
     ]
    }
   ],
   "source": [
    "p_vals_per_trial = []\n",
    "eul_vals_per_trial =[]\n",
    "tvd_per_trial = []\n",
    "\n",
    "p_uniform = 1.0/math.factorial(52)\n",
    "\n",
    "for trial in rising_sequences_per_trial[:1]:\n",
    "    prob_dist = []\n",
    "    pvals_trial = []\n",
    "    eul_trial = []\n",
    "    tvd_trial = []\n",
    "    \n",
    "    for k, r in enumerate(trial, start=1):\n",
    "        print(k, r)\n",
    "        p_permutation = probability_permutation(a=2, n=52, r=r, k=k)\n",
    "        eul = eulerian(n=52, r=r)\n",
    "        tvd_diff = abs(p_permutation - p_uniform)\n",
    "        tvd_r = eul * tvd_diff\n",
    "        \n",
    "        tvd_trial.append(tvd_r)\n",
    "        \n",
    "        \n",
    "#         print(f\"Probability of having {r} rising sequences, after {k} shuffles is: {p_permutation}\")\n",
    "#         print(f\"Number of permutations to get {r} rising sequences after {k} shuffles is: {eul}\")\n",
    "#         print(\"\\n\")\n",
    "\n",
    "#     p_vals_per_trial.append(pvals_trial)\n",
    "#     eul_vals_per_trial.append(eul_trial)\n",
    "    tvd_per_trial.append(tvd_trial)"
   ]
  },
  {
   "cell_type": "code",
   "execution_count": 273,
   "id": "d9d07cc5",
   "metadata": {},
   "outputs": [
    {
     "data": {
      "text/plain": [
       "[[0.9999999999999882,\n",
       "  -6.273324376376545e-14,\n",
       "  4.8599672571004964e-29,\n",
       "  -5.448830190969721e-40,\n",
       "  -2.763741667124741e-49,\n",
       "  -4.5408683027608016e-48,\n",
       "  1.162057901936755e-50,\n",
       "  1.3999531544460528e-50,\n",
       "  3.052567405503084e-51,\n",
       "  -1.0654468562562895e-51,\n",
       "  9.120250872507083e-52,\n",
       "  4.829209879686007e-52,\n",
       "  2.613464475467688e-52,\n",
       "  -6.923709518819403e-53,\n",
       "  6.410250727549195e-53]]"
      ]
     },
     "execution_count": 273,
     "metadata": {},
     "output_type": "execute_result"
    }
   ],
   "source": [
    "tvd_per_trial"
   ]
  },
  {
   "cell_type": "code",
   "execution_count": 16,
   "id": "a807b6ce",
   "metadata": {},
   "outputs": [],
   "source": [
    "n=52\n",
    "nfact  = math.factorial(n)\n",
    "U = [1/nfact] * 15"
   ]
  },
  {
   "cell_type": "code",
   "execution_count": 17,
   "id": "3e67c24a",
   "metadata": {},
   "outputs": [
    {
     "data": {
      "text/plain": [
       "[1.2397999308571486e-68,\n",
       " 1.2397999308571486e-68,\n",
       " 1.2397999308571486e-68,\n",
       " 1.2397999308571486e-68,\n",
       " 1.2397999308571486e-68,\n",
       " 1.2397999308571486e-68,\n",
       " 1.2397999308571486e-68,\n",
       " 1.2397999308571486e-68,\n",
       " 1.2397999308571486e-68,\n",
       " 1.2397999308571486e-68,\n",
       " 1.2397999308571486e-68,\n",
       " 1.2397999308571486e-68,\n",
       " 1.2397999308571486e-68,\n",
       " 1.2397999308571486e-68,\n",
       " 1.2397999308571486e-68]"
      ]
     },
     "execution_count": 17,
     "metadata": {},
     "output_type": "execute_result"
    }
   ],
   "source": [
    "U"
   ]
  },
  {
   "cell_type": "code",
   "execution_count": 27,
   "id": "8701fa1e",
   "metadata": {},
   "outputs": [
    {
     "name": "stdout",
     "output_type": "stream",
     "text": [
      "0.9999999999999882\n",
      "-6.273324376376545e-14\n",
      "4.8599672571004964e-29\n",
      "-5.448830192029007e-40\n",
      "-3.514563573000154e-49\n",
      "-4.644752606032721e-48\n",
      "6.864817656323825e-50\n",
      "6.626922403814527e-50\n",
      "1.079946850101373e-50\n",
      "-1.564181080710683e-50\n",
      "8.118078066985651e-50\n",
      "8.07516765705744e-50\n",
      "8.000740913505903e-50\n",
      "-1.4645601046038735e-50\n",
      "8.02046530753303e-50\n"
     ]
    }
   ],
   "source": [
    "tvd_per_trial = []\n",
    "\n",
    "for i, shuffle in enumerate(probs_permutations[0]):\n",
    "    print(shuffle)\n",
    "    tvd = randomness_test.total_variation_distance(shuffle, U[i])\n",
    "    tvd_per_trial.append(tvd)"
   ]
  },
  {
   "cell_type": "code",
   "execution_count": 28,
   "id": "65cec32d",
   "metadata": {},
   "outputs": [
    {
     "data": {
      "text/plain": [
       "[0.4999999999999941,\n",
       " 3.1366621881882726e-14,\n",
       " 2.4299836285502482e-29,\n",
       " 2.7244150960145037e-40,\n",
       " 1.757281786500077e-49,\n",
       " 2.3223763030163606e-48,\n",
       " 3.4324088281619124e-50,\n",
       " 3.3134612019072636e-50,\n",
       " 5.399734250506865e-51,\n",
       " 7.820905403553416e-51,\n",
       " 4.0590390334928255e-50,\n",
       " 4.03758382852872e-50,\n",
       " 4.0003704567529514e-50,\n",
       " 7.322800523019368e-51,\n",
       " 4.010232653766515e-50]"
      ]
     },
     "execution_count": 28,
     "metadata": {},
     "output_type": "execute_result"
    }
   ],
   "source": [
    "tvd_per_trial"
   ]
  },
  {
   "cell_type": "code",
   "execution_count": 29,
   "id": "264ee632",
   "metadata": {},
   "outputs": [
    {
     "data": {
      "text/plain": [
       "[[0.9999999999999882,\n",
       "  -6.273324376376545e-14,\n",
       "  4.8599672571004964e-29,\n",
       "  -5.448830192029007e-40,\n",
       "  -3.514563573000154e-49,\n",
       "  -4.644752606032721e-48,\n",
       "  6.864817656323825e-50,\n",
       "  6.626922403814527e-50,\n",
       "  1.079946850101373e-50,\n",
       "  -1.564181080710683e-50,\n",
       "  8.118078066985651e-50,\n",
       "  8.07516765705744e-50,\n",
       "  8.000740913505903e-50,\n",
       "  -1.4645601046038735e-50,\n",
       "  8.02046530753303e-50],\n",
       " [0.9999999999999882,\n",
       "  -6.273324376376545e-14,\n",
       "  4.8599672571004964e-29,\n",
       "  -2.0650929103625274e-41,\n",
       "  -3.7281939316652435e-47,\n",
       "  -5.894798494809923e-49,\n",
       "  -1.8759711396221258e-50,\n",
       "  1.4384951060786393e-50,\n",
       "  -4.572815455225475e-50,\n",
       "  9.199746703245629e-51,\n",
       "  -3.861388179362128e-50,\n",
       "  -1.4851367801296361e-50,\n",
       "  -1.471451887895215e-50,\n",
       "  8.039448048378944e-50,\n",
       "  8.02046530753303e-50],\n",
       " [0.9999999999999882,\n",
       "  -6.273324376376545e-14,\n",
       "  -5.25380969292792e-27,\n",
       "  -5.448830192029007e-40,\n",
       "  -3.7281939316652435e-47,\n",
       "  -6.9642745601454e-49,\n",
       "  -1.8759711396221258e-50,\n",
       "  -1.7039917513178207e-49,\n",
       "  8.258453980011191e-50,\n",
       "  -4.0968614332915205e-50,\n",
       "  7.914538983338952e-50,\n",
       "  7.973297516793737e-50,\n",
       "  -1.443696097197352e-50,\n",
       "  -1.4645601046038735e-50,\n",
       "  8.033203203690617e-50],\n",
       " [0.9999999999999882,\n",
       "  -6.273324376376545e-14,\n",
       "  4.8599672571004964e-29,\n",
       "  -2.0650929103625274e-41,\n",
       "  2.5374308847336364e-45,\n",
       "  -4.644752606032721e-48,\n",
       "  -1.8759711396221258e-50,\n",
       "  8.125183121198681e-50,\n",
       "  8.258453980011191e-50,\n",
       "  8.187421093131635e-50,\n",
       "  -3.4009906069879705e-50,\n",
       "  7.407482514462776e-51,\n",
       "  -3.571633227541774e-50,\n",
       "  7.661145327538659e-51,\n",
       "  -3.6147003846020274e-50],\n",
       " [0.9999999999999882,\n",
       "  -6.273324376376545e-14,\n",
       "  4.8599672571004964e-29,\n",
       "  -2.0650929103625274e-41,\n",
       "  -3.514563573000154e-49,\n",
       "  1.1538365456732397e-50,\n",
       "  2.2361790433305338e-50,\n",
       "  -1.7039917513178207e-49,\n",
       "  7.460239097184831e-50,\n",
       "  -3.1780247543576088e-50,\n",
       "  -3.4009906069879705e-50,\n",
       "  -7.088601963303681e-50,\n",
       "  -1.443696097197352e-50,\n",
       "  -3.600327678300848e-50,\n",
       "  -1.4611021953369679e-50],\n",
       " [0.9999999999999882,\n",
       "  -6.273324376376545e-14,\n",
       "  4.8599672571004964e-29,\n",
       "  -5.448830192029007e-40,\n",
       "  -7.711825563250715e-49,\n",
       "  -6.630694281945949e-50,\n",
       "  -1.8759711396221258e-50,\n",
       "  -5.509207735028197e-50,\n",
       "  7.460239097184831e-50,\n",
       "  8.187421093131635e-50,\n",
       "  8.118078066985651e-50,\n",
       "  7.973297516793737e-50,\n",
       "  8.000740913505903e-50,\n",
       "  -1.4506814841522555e-50,\n",
       "  -1.4541627944706092e-50],\n",
       " [0.9999999999999882,\n",
       "  -6.273324376376545e-14,\n",
       "  4.8599672571004964e-29,\n",
       "  -2.0650929103625274e-41,\n",
       "  -2.7660556493929584e-46,\n",
       "  2.7327707660681987e-50,\n",
       "  -7.005932014434124e-50,\n",
       "  -1.7039917513178207e-49,\n",
       "  -1.6598209060295645e-50,\n",
       "  -1.564181080710683e-50,\n",
       "  -8.404275078810768e-50,\n",
       "  8.095910375228434e-51,\n",
       "  -3.686809193085901e-50,\n",
       "  -1.4645601046038735e-50,\n",
       "  8.033203203690617e-50],\n",
       " [0.9999999999999882,\n",
       "  -6.273324376376545e-14,\n",
       "  4.8599672571004964e-29,\n",
       "  -9.22856660343262e-43,\n",
       "  -2.7660556493929584e-46,\n",
       "  3.210616235927404e-50,\n",
       "  -7.005932014434124e-50,\n",
       "  -9.807170398187225e-51,\n",
       "  5.3012172378988715e-51,\n",
       "  -3.1780247543576088e-50,\n",
       "  7.914538983338952e-50,\n",
       "  7.973297516793737e-50,\n",
       "  -3.686809193085901e-50,\n",
       "  -1.4506814841522555e-50,\n",
       "  8.02046530753303e-50],\n",
       " [0.9999999999999882,\n",
       "  -6.273324376376545e-14,\n",
       "  4.8599672571004964e-29,\n",
       "  -9.22856660343262e-43,\n",
       "  -7.711825563250715e-49,\n",
       "  3.210616235927404e-50,\n",
       "  6.864817656323825e-50,\n",
       "  -8.467091331958711e-51,\n",
       "  -4.637568167704661e-50,\n",
       "  6.447093607548017e-51,\n",
       "  7.914538983338952e-50,\n",
       "  8.07516765705744e-50,\n",
       "  8.000740913505903e-50,\n",
       "  8.013972649322532e-50,\n",
       "  -1.4541627944706092e-50],\n",
       " [0.9999999999999882,\n",
       "  -6.273324376376545e-14,\n",
       "  4.8599672571004964e-29,\n",
       "  -2.0650929103625274e-41,\n",
       "  -3.7281939316652435e-47,\n",
       "  -1.157930948928306e-50,\n",
       "  -8.927831644869529e-51,\n",
       "  6.626922403814527e-50,\n",
       "  7.460239097184831e-50,\n",
       "  6.447093607548017e-51,\n",
       "  8.118078066985651e-50,\n",
       "  -1.4851367801296361e-50,\n",
       "  -3.686809193085901e-50,\n",
       "  8.013972649322532e-50,\n",
       "  -1.4611021953369679e-50],\n",
       " [0.9999999999999882,\n",
       "  -6.273324376376545e-14,\n",
       "  -5.25380969292792e-27,\n",
       "  -2.0650929103625274e-41,\n",
       "  -1.4853574951652492e-47,\n",
       "  3.210616235927404e-50,\n",
       "  -1.8759711396221258e-50,\n",
       "  6.626922403814527e-50,\n",
       "  7.460239097184831e-50,\n",
       "  8.187421093131635e-50,\n",
       "  -1.401184444777844e-50,\n",
       "  7.973297516793737e-50,\n",
       "  8.051688565661463e-50,\n",
       "  -3.657917575820827e-50,\n",
       "  -3.643495572708755e-50],\n",
       " [0.9999999999999882,\n",
       "  -6.273324376376545e-14,\n",
       "  -5.25380969292792e-27,\n",
       "  -5.448830192029007e-40,\n",
       "  -2.7660556493929584e-46,\n",
       "  -6.630694281945949e-50,\n",
       "  -5.450559353578823e-51,\n",
       "  6.626922403814527e-50,\n",
       "  -1.6598209060295645e-50,\n",
       "  -1.3431073111723546e-50,\n",
       "  -1.5120916494868506e-50,\n",
       "  8.07516765705744e-50,\n",
       "  8.051688565661463e-50,\n",
       "  -3.657917575820827e-50,\n",
       "  -1.4611021953369679e-50],\n",
       " [0.9999999999999882,\n",
       "  -6.273324376376545e-14,\n",
       "  4.8599672571004964e-29,\n",
       "  -2.0650929103625274e-41,\n",
       "  -3.7281939316652435e-47,\n",
       "  -6.9642745601454e-49,\n",
       "  1.2494950515232302e-51,\n",
       "  -2.7207808710847616e-50,\n",
       "  5.3012172378988715e-51,\n",
       "  6.447093607548017e-51,\n",
       "  8.118078066985651e-50,\n",
       "  8.07516765705744e-50,\n",
       "  -3.686809193085901e-50,\n",
       "  -1.4506814841522555e-50,\n",
       "  8.02046530753303e-50],\n",
       " [0.9999999999999882,\n",
       "  -6.273324376376545e-14,\n",
       "  4.8599672571004964e-29,\n",
       "  -9.22856660343262e-43,\n",
       "  -2.7660556493929584e-46,\n",
       "  3.210616235927404e-50,\n",
       "  -1.8759711396221258e-50,\n",
       "  -1.8076331061091976e-50,\n",
       "  -1.2235532442746454e-50,\n",
       "  -4.0968614332915205e-50,\n",
       "  -1.401184444777844e-50,\n",
       "  -2.6815024828324155e-50,\n",
       "  -3.571633227541774e-50,\n",
       "  8.013972649322532e-50,\n",
       "  -1.4611021953369679e-50],\n",
       " [0.9999999999999882,\n",
       "  -6.273324376376545e-14,\n",
       "  4.8599672571004964e-29,\n",
       "  -2.0650929103625274e-41,\n",
       "  -7.711825563250715e-49,\n",
       "  2.7327707660681987e-50,\n",
       "  6.864817656323825e-50,\n",
       "  6.626922403814527e-50,\n",
       "  -2.750755256902885e-50,\n",
       "  -1.3431073111723546e-50,\n",
       "  -1.401184444777844e-50,\n",
       "  8.07516765705744e-50,\n",
       "  7.575989856448456e-51,\n",
       "  7.661145327538659e-51,\n",
       "  8.02046530753303e-50],\n",
       " [0.9999999999999882,\n",
       "  -6.273324376376545e-14,\n",
       "  4.8599672571004964e-29,\n",
       "  -9.22856660343262e-43,\n",
       "  2.5374308847336364e-45,\n",
       "  -5.894798494809923e-49,\n",
       "  -3.230477484416921e-49,\n",
       "  8.125183121198681e-50,\n",
       "  -4.572815455225475e-50,\n",
       "  -1.564181080710683e-50,\n",
       "  8.454447525085391e-51,\n",
       "  -1.429636798987345e-50,\n",
       "  -1.443696097197352e-50,\n",
       "  -3.657917575820827e-50,\n",
       "  7.790003851072715e-51],\n",
       " [0.9999999999999882,\n",
       "  -6.273324376376545e-14,\n",
       "  -5.25380969292792e-27,\n",
       "  5.0601855566316315e-39,\n",
       "  -1.4853574951652492e-47,\n",
       "  -6.630694281945949e-50,\n",
       "  -1.8759711396221258e-50,\n",
       "  1.4384951060786393e-50,\n",
       "  -1.6598209060295645e-50,\n",
       "  -3.1780247543576088e-50,\n",
       "  -3.4009906069879705e-50,\n",
       "  7.973297516793737e-50,\n",
       "  8.000740913505903e-50,\n",
       "  8.013972649322532e-50,\n",
       "  -1.4541627944706092e-50],\n",
       " [0.9999999999999882,\n",
       "  -6.273324376376545e-14,\n",
       "  4.8599672571004964e-29,\n",
       "  7.776140112664998e-45,\n",
       "  5.848854130528156e-51,\n",
       "  -1.157930948928306e-50,\n",
       "  4.546827278863832e-50,\n",
       "  -1.8076331061091976e-50,\n",
       "  8.258453980011191e-50,\n",
       "  7.781948810424163e-50,\n",
       "  -3.4009906069879705e-50,\n",
       "  7.973297516793737e-50,\n",
       "  -1.443696097197352e-50,\n",
       "  8.039448048378944e-50,\n",
       "  8.033203203690617e-50],\n",
       " [0.9999999999999882,\n",
       "  -6.273324376376545e-14,\n",
       "  4.8599672571004964e-29,\n",
       "  -9.22856660343262e-43,\n",
       "  -3.7281939316652435e-47,\n",
       "  -4.644752606032721e-48,\n",
       "  -1.8759711396221258e-50,\n",
       "  6.626922403814527e-50,\n",
       "  -1.6598209060295645e-50,\n",
       "  -1.3431073111723546e-50,\n",
       "  -6.687313661429829e-50,\n",
       "  -1.429636798987345e-50,\n",
       "  8.000740913505903e-50,\n",
       "  8.039448048378944e-50,\n",
       "  -1.4541627944706092e-50],\n",
       " [0.9999999999999882,\n",
       "  -6.273324376376545e-14,\n",
       "  4.8599672571004964e-29,\n",
       "  -9.22856660343262e-43,\n",
       "  -1.4853574951652492e-47,\n",
       "  2.7327707660681987e-50,\n",
       "  6.864817656323825e-50,\n",
       "  8.125183121198681e-50,\n",
       "  1.079946850101373e-50,\n",
       "  -4.0968614332915205e-50,\n",
       "  7.914538983338952e-50,\n",
       "  7.407482514462776e-51,\n",
       "  -7.296090295184565e-50,\n",
       "  8.039448048378944e-50,\n",
       "  -1.4611021953369679e-50]]"
      ]
     },
     "execution_count": 29,
     "metadata": {},
     "output_type": "execute_result"
    }
   ],
   "source": [
    "probs_permutations"
   ]
  },
  {
   "cell_type": "code",
   "execution_count": 59,
   "id": "05675c32",
   "metadata": {},
   "outputs": [],
   "source": [
    "def A(n, m):\n",
    "    res = 0\n",
    "    for k in range (0, m+1):\n",
    "        res += (-1)**k * (m-k)**n * math.comb(n+1, k)\n",
    "    return res"
   ]
  },
  {
   "cell_type": "code",
   "execution_count": 307,
   "id": "f5c06507",
   "metadata": {},
   "outputs": [],
   "source": [
    "def var_dis_seq(lst):\n",
    "    res = 0\n",
    "    n = len(lst)\n",
    "    for i in range(0,n):\n",
    "\n",
    "        lst[i] = lst[i]/5000\n",
    "        \n",
    "    for r in range(1, n+1):\n",
    "        print(res)\n",
    "        res += A(n, r) * abs(float(lst[r-1])/A(n,r) - 1./math.factorial(n))\n",
    "        \n",
    "    return res/2"
   ]
  },
  {
   "cell_type": "code",
   "execution_count": 308,
   "id": "6581c4b1",
   "metadata": {},
   "outputs": [
    {
     "name": "stdout",
     "output_type": "stream",
     "text": [
      "0\n",
      "0.00039999999923528366\n",
      "0.0011999749532446294\n",
      "0.0027894029489763618\n",
      "0.0047408539426231225\n",
      "0.011843128430119997\n",
      "0.08643838229686857\n",
      "0.31936157720757585\n",
      "0.6562018385629166\n",
      "0.8897250334736239\n",
      "0.9633202873403724\n",
      "0.9696225618278693\n",
      "0.974174012821516\n",
      "0.9795634408172478\n",
      "0.9845634157712572\n"
     ]
    },
    {
     "data": {
      "text/plain": [
       "0.4949817078852462"
      ]
     },
     "execution_count": 308,
     "metadata": {},
     "output_type": "execute_result"
    }
   ],
   "source": [
    "var_dis_seq(list_of_r)"
   ]
  },
  {
   "cell_type": "code",
   "execution_count": 309,
   "id": "b59be55e",
   "metadata": {},
   "outputs": [
    {
     "data": {
      "text/plain": [
       "[0.0004,\n",
       " 0.0008,\n",
       " 0.0016,\n",
       " 0.0026,\n",
       " 0.0044,\n",
       " 0.004,\n",
       " 0.0052,\n",
       " 0.0054,\n",
       " 0.0046,\n",
       " 0.005,\n",
       " 0.0052,\n",
       " 0.0052,\n",
       " 0.0054,\n",
       " 0.005,\n",
       " 0.0054]"
      ]
     },
     "execution_count": 309,
     "metadata": {},
     "output_type": "execute_result"
    }
   ],
   "source": [
    "list_of_r"
   ]
  },
  {
   "cell_type": "code",
   "execution_count": 288,
   "id": "0a386b3f",
   "metadata": {},
   "outputs": [
    {
     "data": {
      "text/plain": [
       "[8e-08,\n",
       " 1.6e-07,\n",
       " 3.2e-07,\n",
       " 5.2e-07,\n",
       " 8.8e-07,\n",
       " 8e-07,\n",
       " 1.04e-06,\n",
       " 1.08e-06,\n",
       " 9.2e-07,\n",
       " 1e-06,\n",
       " 1.04e-06,\n",
       " 1.04e-06,\n",
       " 1.08e-06,\n",
       " 1e-06,\n",
       " 1.08e-06]"
      ]
     },
     "execution_count": 288,
     "metadata": {},
     "output_type": "execute_result"
    }
   ],
   "source": [
    "rising_sequences_per_trial[0]"
   ]
  },
  {
   "cell_type": "code",
   "execution_count": 294,
   "id": "55a35967",
   "metadata": {},
   "outputs": [],
   "source": [
    "def var_dis(k, n = 52, a = 2):\n",
    "    result = 0\n",
    "    for r in range(1, n+1):\n",
    "        res = A(n, r) * abs(math.comb(n-r+(a**k), n) - float(a**(n*k))/math.factorial(n))\n",
    "        \n",
    "    return result/float(2*(a**(n*k)))"
   ]
  },
  {
   "cell_type": "code",
   "execution_count": 297,
   "id": "794ed886",
   "metadata": {},
   "outputs": [
    {
     "data": {
      "text/plain": [
       "0.0"
      ]
     },
     "execution_count": 297,
     "metadata": {},
     "output_type": "execute_result"
    }
   ],
   "source": [
    "var_dis(19)"
   ]
  },
  {
   "cell_type": "code",
   "execution_count": 286,
   "id": "fe4e501f",
   "metadata": {},
   "outputs": [],
   "source": [
    "from functools import reduce\n",
    "import operator as op\n",
    "from math import *\n",
    "\n",
    "def ncr(n, r):\n",
    "    if n < r:\n",
    "        return 0\n",
    "    else:\n",
    "        r = min(r, n-r)\n",
    "    numer = reduce(op.mul, list(range(n, n-r, -1)), 1)\n",
    "    denom = reduce(op.mul, list(range(1, r+1)), 1)\n",
    "    return numer//denom"
   ]
  },
  {
   "cell_type": "code",
   "execution_count": 287,
   "id": "dd1e4c69",
   "metadata": {},
   "outputs": [],
   "source": [
    "def A(n, m):\n",
    "    res = 0\n",
    "    for k in range (0, m+1):\n",
    "        res += (-1)**k * (m-k)**n * ncr(n+1, k)\n",
    "    \n",
    "    return res"
   ]
  },
  {
   "cell_type": "code",
   "execution_count": 283,
   "id": "0672332f",
   "metadata": {},
   "outputs": [
    {
     "name": "stdout",
     "output_type": "stream",
     "text": [
      "1177673419615782603527471550694000694222294633508437511153509198476763820026386104068791054771872493711231362712446839859115177027918750 \n",
      "\n",
      " 1177673419615782603527471550694000694222294633508437511153509198476763820026386104068791054771872493711231362712446839859115177027918750\n"
     ]
    }
   ],
   "source": [
    "n = 104\n",
    "m = 85\n",
    "\n",
    "print(A(n, m), \"\\n\"\"\\n\", eulerian(n, m))"
   ]
  },
  {
   "cell_type": "code",
   "execution_count": null,
   "id": "423ce223",
   "metadata": {},
   "outputs": [],
   "source": []
  },
  {
   "cell_type": "code",
   "execution_count": null,
   "id": "921952f5",
   "metadata": {},
   "outputs": [],
   "source": []
  }
 ],
 "metadata": {
  "kernelspec": {
   "display_name": "Python 3 (ipykernel)",
   "language": "python",
   "name": "python3"
  },
  "language_info": {
   "codemirror_mode": {
    "name": "ipython",
    "version": 3
   },
   "file_extension": ".py",
   "mimetype": "text/x-python",
   "name": "python",
   "nbconvert_exporter": "python",
   "pygments_lexer": "ipython3",
   "version": "3.9.12"
  }
 },
 "nbformat": 4,
 "nbformat_minor": 5
}
