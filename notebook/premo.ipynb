{
 "cells": [
  {
   "cell_type": "code",
   "execution_count": 1,
   "id": "097686de",
   "metadata": {},
   "outputs": [],
   "source": [
    "import sys\n",
    "import os\n",
    "\n",
    "sys.path.insert(1, os.path.join(sys.path[0], '..')) "
   ]
  },
  {
   "cell_type": "code",
   "execution_count": 2,
   "id": "4b72ca25",
   "metadata": {},
   "outputs": [],
   "source": [
    "import numpy as np\n",
    "\n",
    "import gsr\n",
    "import shuffles\n",
    "from deck import Deck"
   ]
  },
  {
   "cell_type": "code",
   "execution_count": 3,
   "id": "045d5123",
   "metadata": {},
   "outputs": [],
   "source": [
    "N_TRIALS = 10\n",
    "MAX_PREMO_CUTS = 3\n",
    "N_CARDS = 52"
   ]
  },
  {
   "cell_type": "code",
   "execution_count": 4,
   "id": "07af8c6b",
   "metadata": {},
   "outputs": [],
   "source": [
    "results = []\n",
    "top_card_choices = []\n",
    "\n",
    "for t in range(N_TRIALS):\n",
    "    d = Deck().init_new_deck(N_CARDS)\n",
    "    for e, p in enumerate(range(MAX_PREMO_CUTS)):\n",
    "        cut_position = gsr.get_cut_position(d)\n",
    "        d = d.cut_deck(cut_position)\n",
    "        if e < MAX_PREMO_CUTS:\n",
    "            d = shuffles.a_shuffle(d, a=2)\n",
    "    \n",
    "    top_card = d.popleft()\n",
    "    top_card_choices.append(top_card)\n",
    "    random_position_for_top_card = np.random.randint(len(d))\n",
    "    d.insert(random_position_for_top_card, top_card)\n",
    "    results.append(d.get_rising_sequences())"
   ]
  },
  {
   "cell_type": "code",
   "execution_count": 5,
   "id": "5bc341f6",
   "metadata": {},
   "outputs": [],
   "source": [
    "guesses = []\n",
    "\n",
    "for trial in results:\n",
    "    guesses_trial = [rs[0] for rs in trial if len(rs) == 1]\n",
    "    \n",
    "    guesses.append(guesses_trial)"
   ]
  },
  {
   "cell_type": "code",
   "execution_count": 6,
   "id": "10b2503c",
   "metadata": {},
   "outputs": [
    {
     "data": {
      "text/plain": [
       "[[31], [47, 1], [40], [20, 1], [1], [1], [18, 1], [33], [14], []]"
      ]
     },
     "execution_count": 6,
     "metadata": {},
     "output_type": "execute_result"
    }
   ],
   "source": [
    "correct_guesses = []\n",
    "\n",
    "for i, guess in enumerate(guesses):\n",
    "    if any([g for g in guess if g == top_card_choices[i]]):\n",
    "        correct_guesses = "
   ]
  },
  {
   "cell_type": "code",
   "execution_count": 7,
   "id": "e01186a4",
   "metadata": {},
   "outputs": [
    {
     "data": {
      "text/plain": [
       "[31, 47, 40, 20, 6, 5, 18, 33, 14, 9]"
      ]
     },
     "execution_count": 7,
     "metadata": {},
     "output_type": "execute_result"
    }
   ],
   "source": [
    "top_card_choices"
   ]
  },
  {
   "cell_type": "code",
   "execution_count": 8,
   "id": "aafffd2c",
   "metadata": {},
   "outputs": [
    {
     "ename": "SyntaxError",
     "evalue": "invalid syntax (2511847144.py, line 1)",
     "output_type": "error",
     "traceback": [
      "\u001b[0;36m  Input \u001b[0;32mIn [8]\u001b[0;36m\u001b[0m\n\u001b[0;31m    def create_message(Ebel, Meike Schuiling, Manager IT & data, Loyal Interim):\u001b[0m\n\u001b[0m                                   ^\u001b[0m\n\u001b[0;31mSyntaxError\u001b[0m\u001b[0;31m:\u001b[0m invalid syntax\n"
     ]
    }
   ],
   "source": [
    "def create_message(Ebel, Meike Schuiling, Manager IT & data, Loyal Interim):\n",
    "    intro = f\"Beste [Ebel], Vind jij ook dat goed werkgeversschap transparantie, vrijheid en een eerlijke verdeling in inkomsten betekent? Ik ben [Meike Schuiling], manager [IT & data] bij [Loyal Interim].\"\n",
    "    company_desc = \"Wij zijn een projectenorganisatie voor (semi) overheidsinstanties en financiële instellingen, waarbij de focus ligt op projecten met een hoge maatschappelijke relevantie.\"\n",
    "    contract_details = \"Bij ons is 70% van jouw uurtarief, ook werkelijk voor jou. Voor de overige 30% krijg je een hoop terug zoals; collega's, mooie projecten, uitjes en een onbepaald tijdscontract.\"\n",
    "    company_values = \"Ons businessmodel is gebouwd op transparantie, betrouwbaarheid en een eerlijke verdeling tussen het bedrijf en onze 'Loyals'.\"\n",
    "    feedback_request = \"Ik sta altijd open voor feedback op mijn code, aangezien ik niet de specialist ben, maar jij wel. Vond je het leuk om deze boodschap als code te ontvangen?\"\n",
    "    action_request = \"Wil jij deze inmail accepteren en mij laten weten of je het leuk vond? Als dat het geval is, stuur ik je graag een persoonlijke videoboodschap waarin ik uitleg waarom we je hebben benaderd!\"\n",
    "    ending = \"Hartelijke groet, [0], manager [IT & data], [2]\".format(Meike, manager IT & data, Loyal Interim)\n",
    "    company_motto = \"“Meer vrijheid, uitdaging en waardering voor professionals. Zo bouwen we de meest geliefde werkgever voor hoogopgeleide vakspecialisten.”\"\n",
    "\n",
    "    \"\\n\".join(intro + \"\\n\" + company_desc + \"\\n\" + contract_details + \"\\n\" + company_values + \"\\n\" + feedback_request + \"\\n\" + action_request + \"\\n\" + ending + \"\\n\" + company_motto)\n",
    "\n",
    "# Test the function\n",
    "print(create_message(\"Meike\", \"IT & data\", \"Loyal Interim\", \"Ebel\"))"
   ]
  },
  {
   "cell_type": "code",
   "execution_count": null,
   "id": "2ba1b448",
   "metadata": {},
   "outputs": [],
   "source": []
  }
 ],
 "metadata": {
  "kernelspec": {
   "display_name": "Python 3 (ipykernel)",
   "language": "python",
   "name": "python3"
  },
  "language_info": {
   "codemirror_mode": {
    "name": "ipython",
    "version": 3
   },
   "file_extension": ".py",
   "mimetype": "text/x-python",
   "name": "python",
   "nbconvert_exporter": "python",
   "pygments_lexer": "ipython3",
   "version": "3.9.12"
  }
 },
 "nbformat": 4,
 "nbformat_minor": 5
}
