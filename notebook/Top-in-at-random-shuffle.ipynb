{
 "cells": [
  {
   "cell_type": "code",
   "execution_count": 1,
   "id": "3428515e",
   "metadata": {},
   "outputs": [],
   "source": [
    "import matplotlib.pyplot as plt\n",
    "import numpy as np\n",
    "import yaml\n",
    "from pathlib import Path\n",
    "\n",
    "import simulation\n",
    "import randomness_test"
   ]
  },
  {
   "cell_type": "markdown",
   "id": "df5e1175",
   "metadata": {},
   "source": [
    "# Configure simulation settings"
   ]
  },
  {
   "cell_type": "markdown",
   "id": "171b1a2a",
   "metadata": {},
   "source": [
    "<b>Set path to simlation config file (yaml) and load the simulation config into a Python dictionary</b>\n",
    "\n",
    "Using the config, we set all the settings which we will use for our simulation.\n",
    "* random_seed: this allows another user to replicate the results of running the simulations\n",
    "* n_experiments: the number of times we run a simulation. E.g.: when n_experiments = 20, the simulation will be ran 20 times repeatedly\n",
    "* n_cards: the number of cards in the deck"
   ]
  },
  {
   "cell_type": "code",
   "execution_count": 2,
   "id": "41f29713",
   "metadata": {},
   "outputs": [],
   "source": [
    "simulation_config_name = \"simulation_config.yml\"\n",
    "simulation_config_folder = Path('./config')\n",
    "simulation_config_path = simulation_config_folder / simulation_config_name"
   ]
  },
  {
   "cell_type": "code",
   "execution_count": 3,
   "id": "756c1614",
   "metadata": {},
   "outputs": [],
   "source": [
    "with open(simulation_config_path, \"r\") as f:\n",
    "    cfg_load = yaml.safe_load(f)"
   ]
  },
  {
   "cell_type": "code",
   "execution_count": 4,
   "id": "2c80b654",
   "metadata": {},
   "outputs": [],
   "source": [
    "cfg = cfg_load['simulation_config']\n",
    "top_in_at_r_cfg = cfg['top_in_at_random_shuffle']"
   ]
  },
  {
   "cell_type": "code",
   "execution_count": 5,
   "id": "66beb698",
   "metadata": {},
   "outputs": [],
   "source": [
    "RANDOM_SEED = cfg['random_seed'] \n",
    "N_EXPERIMENTS = top_in_at_r_cfg['n_experiments']\n",
    "N_CARDS = top_in_at_r_cfg['n_cards']"
   ]
  },
  {
   "cell_type": "markdown",
   "id": "224aec74",
   "metadata": {},
   "source": [
    "# Run top-in-at-random shuffle simulation"
   ]
  },
  {
   "cell_type": "code",
   "execution_count": 6,
   "id": "f54a5859",
   "metadata": {
    "scrolled": false
   },
   "outputs": [],
   "source": [
    "results = simulation.top_in_at_random_shuffle_simulation(\n",
    "    n_experiments=N_EXPERIMENTS,\n",
    "    n_cards_in_deck=N_CARDS,\n",
    "    random_seed=RANDOM_SEED\n",
    "    )"
   ]
  },
  {
   "cell_type": "markdown",
   "id": "83f168f1",
   "metadata": {},
   "source": [
    "# Simulation results "
   ]
  },
  {
   "cell_type": "code",
   "execution_count": 7,
   "id": "1d74512b",
   "metadata": {},
   "outputs": [],
   "source": [
    "moves_per_experiment = []\n",
    "rising_sequences_per_deck_per_experiment = []\n",
    "\n",
    "for experiment in results[:2]:\n",
    "    moves_per_experiment.append(len(experiment))\n",
    "    rising_sequences_per_exp = []\n",
    "    for deck in experiment:\n",
    "        rising_sequences_per_exp.append(deck.rising_sequences)\n",
    "    rising_sequences_per_deck_per_experiment.append(rising_sequences_per_exp)"
   ]
  },
  {
   "cell_type": "code",
   "execution_count": 8,
   "id": "f7a621cb",
   "metadata": {},
   "outputs": [
    {
     "data": {
      "text/plain": [
       "316.0"
      ]
     },
     "execution_count": 8,
     "metadata": {},
     "output_type": "execute_result"
    }
   ],
   "source": [
    "np.mean(moves_per_experiment)"
   ]
  },
  {
   "cell_type": "code",
   "execution_count": 9,
   "id": "948dc042",
   "metadata": {},
   "outputs": [
    {
     "data": {
      "text/plain": [
       "[309, 323]"
      ]
     },
     "execution_count": 9,
     "metadata": {},
     "output_type": "execute_result"
    }
   ],
   "source": [
    "moves_per_experiment"
   ]
  },
  {
   "cell_type": "code",
   "execution_count": 10,
   "id": "1bebd6a9",
   "metadata": {},
   "outputs": [],
   "source": [
    "from deck import Deck\n",
    "random_deck = Deck()\n",
    "random_deck.cards = randomness_test.get_random_sequence(1, 52)"
   ]
  },
  {
   "cell_type": "code",
   "execution_count": 11,
   "id": "9140e289",
   "metadata": {},
   "outputs": [
    {
     "data": {
      "text/plain": [
       "52"
      ]
     },
     "execution_count": 11,
     "metadata": {},
     "output_type": "execute_result"
    }
   ],
   "source": [
    "len(random_deck)"
   ]
  },
  {
   "cell_type": "code",
   "execution_count": 12,
   "id": "b99b992a",
   "metadata": {},
   "outputs": [
    {
     "data": {
      "text/plain": [
       "deque([33, 39, 42, 25, 43, 45, 29, 22, 50, 52, 23, 48, 10, 36, 32, 37, 28, 44, 24, 7, 12, 31, 14, 11, 49, 47, 4, 38, 19, 21, 9, 2, 3, 17, 51, 5, 16, 30, 41, 13, 34, 40, 6, 1, 35, 15, 26, 18, 46, 27, 8, 20])"
      ]
     },
     "execution_count": 12,
     "metadata": {},
     "output_type": "execute_result"
    }
   ],
   "source": [
    "results[0][-1]"
   ]
  },
  {
   "cell_type": "code",
   "execution_count": 13,
   "id": "b6fa0ce7",
   "metadata": {},
   "outputs": [
    {
     "data": {
      "text/plain": [
       "907.1587575353631"
      ]
     },
     "execution_count": 13,
     "metadata": {},
     "output_type": "execute_result"
    }
   ],
   "source": [
    "randomness_test.kl_divergence(results[0][0].cards, random_deck.cards)"
   ]
  },
  {
   "cell_type": "code",
   "execution_count": 16,
   "id": "fde76d2c",
   "metadata": {},
   "outputs": [
    {
     "data": {
      "text/plain": [
       "838.372538825771"
      ]
     },
     "execution_count": 16,
     "metadata": {},
     "output_type": "execute_result"
    }
   ],
   "source": [
    "randomness_test.kl_divergence(results[0][-1].cards, random_deck.cards)"
   ]
  },
  {
   "cell_type": "code",
   "execution_count": 19,
   "id": "e7ebb111",
   "metadata": {
    "scrolled": true
   },
   "outputs": [
    {
     "name": "stdout",
     "output_type": "stream",
     "text": [
      "447.0\n",
      "434.0\n",
      "422.0\n",
      "470.0\n",
      "475.0\n",
      "473.0\n",
      "419.0\n",
      "419.0\n",
      "419.0\n",
      "471.0\n",
      "469.0\n",
      "473.0\n",
      "427.0\n",
      "451.0\n",
      "448.0\n",
      "450.0\n",
      "428.0\n",
      "434.0\n",
      "461.0\n",
      "416.0\n",
      "420.0\n",
      "487.0\n",
      "435.0\n",
      "505.0\n",
      "513.0\n",
      "515.0\n",
      "463.0\n",
      "454.0\n",
      "464.0\n",
      "495.0\n",
      "492.0\n",
      "492.0\n",
      "498.0\n",
      "495.0\n",
      "502.0\n",
      "483.0\n",
      "490.0\n",
      "486.0\n",
      "488.0\n",
      "494.0\n",
      "494.0\n",
      "468.0\n",
      "478.0\n",
      "477.0\n",
      "487.0\n",
      "512.0\n",
      "523.0\n",
      "520.0\n",
      "447.0\n",
      "388.0\n",
      "396.0\n",
      "430.0\n",
      "430.0\n",
      "430.0\n",
      "490.0\n",
      "474.0\n",
      "457.0\n",
      "467.0\n",
      "485.0\n",
      "504.0\n",
      "504.0\n",
      "504.0\n",
      "504.0\n",
      "416.0\n",
      "418.0\n",
      "455.0\n",
      "420.0\n",
      "423.0\n",
      "412.0\n",
      "442.0\n",
      "436.0\n",
      "416.0\n",
      "437.0\n",
      "453.0\n",
      "496.0\n",
      "493.0\n",
      "493.0\n",
      "489.0\n",
      "533.0\n",
      "543.0\n",
      "499.0\n",
      "464.0\n",
      "468.0\n",
      "424.0\n",
      "495.0\n",
      "485.0\n",
      "469.0\n",
      "451.0\n",
      "467.0\n",
      "455.0\n",
      "455.0\n",
      "458.0\n",
      "453.0\n",
      "443.0\n",
      "448.0\n",
      "413.0\n",
      "429.0\n",
      "469.0\n",
      "449.0\n",
      "497.0\n",
      "408.0\n",
      "388.0\n",
      "469.0\n",
      "415.0\n",
      "446.0\n",
      "427.0\n",
      "499.0\n",
      "542.0\n",
      "488.0\n",
      "484.0\n",
      "491.0\n",
      "491.0\n",
      "460.0\n",
      "496.0\n",
      "374.0\n",
      "411.0\n",
      "415.0\n",
      "494.0\n",
      "534.0\n",
      "452.0\n",
      "441.0\n",
      "429.0\n",
      "455.0\n",
      "492.0\n",
      "492.0\n",
      "412.0\n",
      "431.0\n",
      "482.0\n",
      "497.0\n",
      "463.0\n",
      "471.0\n",
      "487.0\n",
      "514.0\n",
      "561.0\n",
      "480.0\n",
      "465.0\n",
      "394.0\n",
      "426.0\n",
      "462.0\n",
      "467.0\n",
      "472.0\n",
      "510.0\n",
      "456.0\n",
      "443.0\n",
      "459.0\n",
      "497.0\n",
      "445.0\n",
      "442.0\n",
      "467.0\n",
      "451.0\n",
      "445.0\n",
      "416.0\n",
      "376.0\n",
      "401.0\n",
      "413.0\n",
      "355.0\n",
      "350.0\n",
      "410.0\n",
      "434.0\n",
      "456.0\n",
      "444.0\n",
      "387.0\n",
      "431.0\n",
      "440.0\n",
      "453.0\n",
      "424.0\n",
      "390.0\n",
      "448.0\n",
      "488.0\n",
      "434.0\n",
      "426.0\n",
      "430.0\n",
      "487.0\n",
      "484.0\n",
      "484.0\n",
      "466.0\n",
      "447.0\n",
      "449.0\n",
      "436.0\n",
      "511.0\n",
      "469.0\n",
      "454.0\n",
      "504.0\n",
      "514.0\n",
      "457.0\n",
      "461.0\n",
      "471.0\n",
      "434.0\n",
      "442.0\n",
      "448.0\n",
      "451.0\n",
      "451.0\n",
      "447.0\n",
      "451.0\n",
      "407.0\n",
      "490.0\n",
      "521.0\n",
      "484.0\n",
      "483.0\n",
      "467.0\n",
      "453.0\n",
      "462.0\n",
      "410.0\n",
      "427.0\n",
      "403.0\n",
      "445.0\n",
      "430.0\n",
      "420.0\n",
      "407.0\n",
      "407.0\n",
      "418.0\n",
      "389.0\n",
      "392.0\n",
      "429.0\n",
      "456.0\n",
      "457.0\n",
      "453.0\n",
      "388.0\n",
      "412.0\n",
      "444.0\n",
      "429.0\n",
      "402.0\n",
      "443.0\n",
      "408.0\n",
      "485.0\n",
      "523.0\n",
      "510.0\n",
      "488.0\n",
      "506.0\n",
      "528.0\n",
      "472.0\n",
      "478.0\n",
      "468.0\n",
      "468.0\n",
      "431.0\n",
      "494.0\n",
      "494.0\n",
      "526.0\n",
      "562.0\n",
      "541.0\n",
      "485.0\n",
      "450.0\n",
      "473.0\n",
      "462.0\n",
      "494.0\n",
      "436.0\n",
      "410.0\n",
      "410.0\n",
      "450.0\n",
      "419.0\n",
      "479.0\n",
      "410.0\n",
      "410.0\n",
      "434.0\n",
      "473.0\n",
      "460.0\n",
      "455.0\n",
      "485.0\n",
      "535.0\n",
      "518.0\n",
      "474.0\n",
      "483.0\n",
      "464.0\n",
      "457.0\n",
      "475.0\n",
      "450.0\n",
      "417.0\n",
      "427.0\n",
      "489.0\n",
      "491.0\n",
      "464.0\n",
      "473.0\n",
      "472.0\n",
      "464.0\n",
      "516.0\n",
      "516.0\n",
      "500.0\n",
      "491.0\n",
      "424.0\n",
      "443.0\n",
      "469.0\n",
      "456.0\n",
      "451.0\n",
      "496.0\n",
      "535.0\n",
      "567.0\n",
      "479.0\n",
      "459.0\n",
      "482.0\n",
      "480.0\n",
      "494.0\n",
      "510.0\n",
      "499.0\n",
      "455.0\n",
      "479.0\n",
      "429.0\n",
      "480.0\n",
      "501.0\n",
      "532.0\n",
      "477.0\n",
      "469.0\n",
      "491.0\n",
      "477.0\n",
      "482.0\n",
      "456.0\n",
      "449.0\n",
      "441.0\n",
      "448.0\n",
      "457.0\n"
     ]
    }
   ],
   "source": [
    "r = random_deck.cards\n",
    "\n",
    "for deck in results[0]:\n",
    "    c = deck.cards\n",
    "    print(randomness_test.total_variation_distance(c, r))"
   ]
  },
  {
   "cell_type": "code",
   "execution_count": 52,
   "id": "2f48c93e",
   "metadata": {},
   "outputs": [],
   "source": [
    "a = np.sort(randomness_test.get_random_sequence(1, 52))\n",
    "b = randomness_test.get_random_sequence(1, 52)"
   ]
  },
  {
   "cell_type": "code",
   "execution_count": 54,
   "id": "31dbcece",
   "metadata": {},
   "outputs": [
    {
     "data": {
      "text/plain": [
       "420.0"
      ]
     },
     "execution_count": 54,
     "metadata": {},
     "output_type": "execute_result"
    }
   ],
   "source": [
    "randomness_test.total_variation_distance(a, b)"
   ]
  },
  {
   "cell_type": "code",
   "execution_count": 56,
   "id": "85f00668",
   "metadata": {},
   "outputs": [
    {
     "data": {
      "text/plain": [
       "80658175170943878571660636856403766975289505440883277824000000000000"
      ]
     },
     "execution_count": 56,
     "metadata": {},
     "output_type": "execute_result"
    }
   ],
   "source": [
    "import math\n",
    "math.factorial(52)"
   ]
  },
  {
   "cell_type": "code",
   "execution_count": null,
   "id": "6c906232",
   "metadata": {},
   "outputs": [],
   "source": [
    "t"
   ]
  }
 ],
 "metadata": {
  "kernelspec": {
   "display_name": "Python 3 (ipykernel)",
   "language": "python",
   "name": "python3"
  },
  "language_info": {
   "codemirror_mode": {
    "name": "ipython",
    "version": 3
   },
   "file_extension": ".py",
   "mimetype": "text/x-python",
   "name": "python",
   "nbconvert_exporter": "python",
   "pygments_lexer": "ipython3",
   "version": "3.9.12"
  }
 },
 "nbformat": 4,
 "nbformat_minor": 5
}
